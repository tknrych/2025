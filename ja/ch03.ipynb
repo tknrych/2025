{
 "cells": [
  {
   "cell_type": "markdown",
   "id": "05cf051f-1e6c-43d5-aa9e-532489d8385b",
   "metadata": {
    "editable": true,
    "id": "05cf051f-1e6c-43d5-aa9e-532489d8385b",
    "tags": []
   },
   "source": [
    "# 第3章: 正規表現\n",
    "Wikipediaの記事を以下のフォーマットで書き出したファイル[jawiki-country.json.gz](/data/jawiki-country.json.gz)がある。\n",
    "\n",
    "* 1行に1記事の情報がJSON形式で格納される\n",
    "* 各行には記事名が\"title\"キーに、記事本文が\"text\"キーの辞書オブジェクトに格納され、そのオブジェクトがJSON形式で書き出される\n",
    "* ファイル全体はgzipで圧縮される\n",
    "\n",
    "以下の処理を行うプログラムを作成せよ。"
   ]
  },
  {
   "cell_type": "markdown",
   "id": "cef3c6a5-ec91-4cb6-ae4b-c53c9ac02172",
   "metadata": {
    "id": "cef3c6a5-ec91-4cb6-ae4b-c53c9ac02172"
   },
   "source": [
    "## 20. JSONデータの読み込み\n",
    "Wikipedia記事のJSONファイルを読み込み、「イギリス」に関する記事本文を表示せよ。問題21-29では、ここで抽出した記事本文に対して実行せよ。"
   ]
  },
  {
   "cell_type": "code",
   "execution_count": 2,
   "id": "22483e3f-12ac-4849-bce1-57b878442d51",
   "metadata": {},
   "outputs": [],
   "source": [
    "import json\n",
    "text_list = []\n",
    "with open('../data/jawiki-country.json') as f:\n",
    "    lines = f.readlines()\n",
    "    for line in lines:\n",
    "        text_list.append(json.loads(line))"
   ]
  },
  {
   "cell_type": "code",
   "execution_count": 3,
   "id": "e0588f61-c9d7-4f35-af4b-4c43df356e60",
   "metadata": {},
   "outputs": [],
   "source": [
    "for i in range(len(text_list)):\n",
    "    if text_list[i]['title'] == 'イギリス':\n",
    "        # UK_text = str(text_list[i])\n",
    "        UK_json = text_list[i]\n",
    "        break"
   ]
  },
  {
   "cell_type": "code",
   "execution_count": 4,
   "id": "082545a5-9a6a-4f40-aa21-1f490c51019f",
   "metadata": {},
   "outputs": [
    {
     "data": {
      "text/plain": [
       "'{{redirect|UK}}\\n{{redirect|英国|春秋時代の諸侯国|英 (春秋)}}\\n{{Otheruses|ヨーロッパの国|長崎県・熊本県の郷土料理|いぎりす}}\\n{{基礎情報 国\\n|略名  =イギリス\\n|日本語国名 = グレートブリテン及び北アイルランド連合王国\\n|公式国名 = {{lang|en|United Kingdom of Great Britain and Norther'"
      ]
     },
     "execution_count": 4,
     "metadata": {},
     "output_type": "execute_result"
    }
   ],
   "source": [
    "UK_text = str(UK_json['text'])\n",
    "UK_text[:200]"
   ]
  },
  {
   "cell_type": "markdown",
   "id": "fe1f40f4-4d5c-4061-82f3-f6aae9170363",
   "metadata": {
    "id": "fe1f40f4-4d5c-4061-82f3-f6aae9170363"
   },
   "source": [
    "## 21. カテゴリ名を含む行を抽出\n",
    "記事中でカテゴリ名を宣言している行を抽出せよ。"
   ]
  },
  {
   "cell_type": "code",
   "execution_count": 5,
   "id": "a3538f03-eadc-470e-b200-8c4f68545e99",
   "metadata": {},
   "outputs": [
    {
     "data": {
      "text/plain": [
       "['[[Category:イギリス|*]]',\n",
       " '[[Category:イギリス連邦加盟国]]',\n",
       " '[[Category:英連邦王国|*]]',\n",
       " '[[Category:G8加盟国]]',\n",
       " '[[Category:欧州連合加盟国|元]]',\n",
       " '[[Category:海洋国家]]',\n",
       " '[[Category:現存する君主国]]',\n",
       " '[[Category:島国]]',\n",
       " '[[Category:1801年に成立した国家・領域]]']"
      ]
     },
     "execution_count": 5,
     "metadata": {},
     "output_type": "execute_result"
    }
   ],
   "source": [
    "import re\n",
    "pattern = re.compile(r'\\[\\[Category:.*?\\]\\]')\n",
    "result = pattern.findall(UK_text)\n",
    "result"
   ]
  },
  {
   "cell_type": "markdown",
   "id": "6f7060b3-c64d-4006-aa4d-8c0705abcb3c",
   "metadata": {
    "id": "6f7060b3-c64d-4006-aa4d-8c0705abcb3c"
   },
   "source": [
    "## 22. カテゴリ名の抽出\n",
    "記事のカテゴリ名を（行単位ではなく名前で）抽出せよ。"
   ]
  },
  {
   "cell_type": "code",
   "execution_count": 6,
   "id": "fd55a108-e861-451c-b376-2a62534e276c",
   "metadata": {},
   "outputs": [
    {
     "name": "stdout",
     "output_type": "stream",
     "text": [
      "イギリス\n",
      "イギリス連邦加盟国\n",
      "英連邦王国\n",
      "G8加盟国\n",
      "欧州連合加盟国|元\n",
      "海洋国家\n",
      "現存する君主国\n",
      "島国\n",
      "1801年に成立した国家・領域\n"
     ]
    }
   ],
   "source": [
    "for item in result:\n",
    "    category_str = item.replace('[[Category:', '').replace(']]', '').replace('|*', '')\n",
    "    print(category_str)"
   ]
  },
  {
   "cell_type": "markdown",
   "id": "618c7cdb-2e7f-4e2b-9dca-38d813777c69",
   "metadata": {
    "id": "618c7cdb-2e7f-4e2b-9dca-38d813777c69"
   },
   "source": [
    "## 23. セクション構造\n",
    "記事中に含まれるセクション名とそのレベル（例えば\"== セクション名 ==\"なら1）を表示せよ。"
   ]
  },
  {
   "cell_type": "code",
   "execution_count": 7,
   "id": "888315d9-9f27-46de-8eb7-d220fe2549d7",
   "metadata": {},
   "outputs": [
    {
     "name": "stdout",
     "output_type": "stream",
     "text": [
      "==国名== -> 1\n",
      "==歴史== -> 1\n",
      "==地理== -> 1\n",
      "===主要都市=== -> 2\n",
      "===気候=== -> 2\n",
      "==政治== -> 1\n",
      "===元首=== -> 2\n",
      "===法=== -> 2\n",
      "===内政=== -> 2\n",
      "===地方行政区分=== -> 2\n",
      "===外交・軍事=== -> 2\n",
      "==経済== -> 1\n",
      "===鉱業=== -> 2\n",
      "===農業=== -> 2\n",
      "===貿易=== -> 2\n",
      "===不動産=== -> 2\n",
      "===エネルギー政策=== -> 2\n",
      "===通貨=== -> 2\n",
      "===企業=== -> 2\n",
      "====通信==== -> 3\n",
      "==交通== -> 1\n",
      "===道路=== -> 2\n",
      "===鉄道=== -> 2\n",
      "===海運=== -> 2\n",
      "===航空=== -> 2\n",
      "==科学技術== -> 1\n",
      "==国民== -> 1\n",
      "===言語=== -> 2\n",
      "===宗教=== -> 2\n",
      "===婚姻=== -> 2\n",
      "===移住=== -> 2\n",
      "===教育=== -> 2\n",
      "===医療=== -> 2\n",
      "==文化== -> 1\n",
      "===食文化=== -> 2\n",
      "===文学=== -> 2\n",
      "===哲学=== -> 2\n",
      "===音楽=== -> 2\n",
      "====ポピュラー音楽==== -> 3\n",
      "===映画=== -> 2\n",
      "===コメディ=== -> 2\n",
      "===国花=== -> 2\n",
      "===世界遺産=== -> 2\n",
      "===祝祭日=== -> 2\n",
      "===スポーツ=== -> 2\n",
      "====サッカー==== -> 3\n",
      "====クリケット==== -> 3\n",
      "====競馬==== -> 3\n",
      "====モータースポーツ==== -> 3\n",
      "====野球==== -> 3\n",
      "==== カーリング ==== -> 3\n",
      "==== 自転車競技 ==== -> 3\n",
      "==脚注== -> 1\n",
      "==関連項目== -> 1\n",
      "==外部リンク== -> 1\n"
     ]
    }
   ],
   "source": [
    "import re\n",
    "pattern = re.compile(r'==.*==')\n",
    "result = pattern.findall(UK_text)\n",
    "result\n",
    "for item in result:\n",
    "    level = int(len(re.findall(r'=', item))/2-1)\n",
    "    print(f'{item} -> {level}')"
   ]
  },
  {
   "cell_type": "markdown",
   "id": "362543a4-19a1-4d28-9a44-052b81caa9b6",
   "metadata": {
    "id": "362543a4-19a1-4d28-9a44-052b81caa9b6"
   },
   "source": [
    "## 24. ファイル参照の抽出\n",
    "記事から参照されているメディアファイルをすべて抜き出せ。"
   ]
  },
  {
   "cell_type": "code",
   "execution_count": 8,
   "id": "51bbd77c-11e5-4c3b-b882-030985fcdc71",
   "metadata": {},
   "outputs": [
    {
     "name": "stdout",
     "output_type": "stream",
     "text": [
      "Royal Coat of Arms of the United Kingdom.svg\n",
      "Descriptio Prime Tabulae Europae.jpg\n",
      "Lenepveu, Jeanne d'Arc au siège d'Orléans.jpg\n",
      "London.bankofengland.arp.jpg\n",
      "Battle of Waterloo 1815.PNG\n",
      "Uk topo en.jpg\n",
      "BenNevis2005.jpg\n",
      "Population density UK 2011 census.png\n",
      "2019 Greenwich Peninsula & Canary Wharf.jpg\n",
      "Birmingham Skyline from Edgbaston Cricket Ground crop.jpg\n",
      "Leeds CBD at night.jpg\n",
      "Glasgow and the Clyde from the air (geograph 4665720).jpg\n",
      "Palace of Westminster, London - Feb 2007.jpg\n",
      "Scotland Parliament Holyrood.jpg\n",
      "Donald Trump and Theresa May (33998675310) (cropped).jpg\n",
      "Soldiers Trooping the Colour, 16th June 2007.jpg\n",
      "City of London skyline from London City Hall - Oct 2008.jpg\n",
      "Oil platform in the North SeaPros.jpg\n",
      "Eurostar at St Pancras Jan 2008.jpg\n",
      "Heathrow Terminal 5C Iwelumo-1.jpg\n",
      "Airbus A380-841 G-XLEB British Airways (10424102995).jpg\n",
      "UKpop.svg\n",
      "Anglospeak.svg\n",
      "Royal Aberdeen Children's Hospital.jpg\n",
      "CHANDOS3.jpg\n",
      "The Fabs.JPG\n",
      "Wembley Stadium, illuminated.jpg\n"
     ]
    }
   ],
   "source": [
    "import re\n",
    "pattern = re.compile(r'ファイル:(.+?)\\|')\n",
    "result = pattern.findall(UK_text)\n",
    "print('\\n'.join(result))"
   ]
  },
  {
   "cell_type": "markdown",
   "id": "1e9d76c9-3a2b-47b5-86a8-f3e547c079fa",
   "metadata": {
    "editable": true,
    "id": "1e9d76c9-3a2b-47b5-86a8-f3e547c079fa",
    "tags": []
   },
   "source": [
    "## 25. テンプレートの抽出\n",
    "記事中に含まれる「基礎情報」テンプレートのフィールド名と値を抽出し、辞書オブジェクトとして格納せよ。"
   ]
  },
  {
   "cell_type": "code",
   "execution_count": 9,
   "id": "0a0e9622-f323-4116-8e60-8706b41b8dbd",
   "metadata": {},
   "outputs": [],
   "source": [
    "import re\n",
    "pattern = re.compile(r'\\|(.+?)\\s=\\s*(.+)')\n",
    "result = pattern.findall(UK_text)"
   ]
  },
  {
   "cell_type": "code",
   "execution_count": 10,
   "id": "1241a551-f35f-4f06-a101-5d6850073e73",
   "metadata": {},
   "outputs": [
    {
     "name": "stdout",
     "output_type": "stream",
     "text": [
      "略名  イギリス\n",
      "日本語国名 グレートブリテン及び北アイルランド連合王国\n",
      "公式国名 {{lang|en|United Kingdom of Great Britain and Northern Ireland}}<ref>英語以外での正式国名:<br />\n",
      "国旗画像 Flag of the United Kingdom.svg\n",
      "国章画像 [[ファイル:Royal Coat of Arms of the United Kingdom.svg|85px|イギリスの国章]]\n",
      "国章リンク （[[イギリスの国章|国章]]）\n",
      "標語 {{lang|fr|[[Dieu et mon droit]]}}<br />（[[フランス語]]:[[Dieu et mon droit|神と我が権利]]）\n",
      "国歌 [[女王陛下万歳|{{lang|en|God Save the Queen}}]]{{en icon}}<br />''神よ女王を護り賜え''<br />{{center|[[ファイル:United States Navy Band - God Save the Queen.ogg]]}}\n",
      "地図画像 Europe-UK.svg\n",
      "位置画像 United Kingdom (+overseas territories) in the World (+Antarctica claims).svg\n",
      "公用語 [[英語]]\n",
      "首都 [[ロンドン]]（事実上）\n",
      "最大都市 ロンドン\n",
      "元首等肩書 [[イギリスの君主|女王]]\n",
      "元首等氏名 [[エリザベス2世]]\n",
      "首相等肩書 [[イギリスの首相|首相]]\n",
      "首相等氏名 [[ボリス・ジョンソン]]\n",
      "他元首等肩書1 [[貴族院 (イギリス)|貴族院議長]]\n",
      "他元首等氏名1 [[:en:Norman Fowler, Baron Fowler|ノーマン・ファウラー]]\n",
      "他元首等肩書2 [[庶民院 (イギリス)|庶民院議長]]\n",
      "他元首等氏名2 {{仮リンク|リンゼイ・ホイル|en|Lindsay Hoyle}}\n",
      "他元首等肩書3 [[連合王国最高裁判所|最高裁判所長官]]\n",
      "他元首等氏名3 [[:en:Brenda Hale, Baroness Hale of Richmond|ブレンダ・ヘイル]]\n",
      "面積順位 76\n",
      "面積大きさ 1 E11\n",
      "面積値 244,820\n",
      "水面積率 1.3%\n",
      "人口統計年 2018\n",
      "人口順位 22\n",
      "人口大きさ 1 E7\n",
      "人口値 6643万5600<ref>{{Cite web|url=https://www.ons.gov.uk/peoplepopulationandcommunity/populationandmigration/populationestimates|title=Population estimates - Office for National Statistics|accessdate=2019-06-26|date=2019-06-26}}</ref>\n",
      "人口密度値 271\n",
      "GDP統計年元 2012\n",
      "GDP値元 1兆5478億<ref name=\"imf-statistics-gdp\">[http://www.imf.org/external/pubs/ft/weo/2012/02/weodata/weorept.aspx?pr.x=70&pr.y=13&sy=2010&ey=2012&scsm=1&ssd=1&sort=country&ds=.&br=1&c=112&s=NGDP%2CNGDPD%2CPPPGDP%2CPPPPC&grp=0&a=IMF>Data and Statistics>World Economic Outlook Databases>By Countrise>United Kingdom]</ref>\n",
      "GDP統計年MER 2012\n",
      "GDP順位MER 6\n",
      "GDP値MER 2兆4337億<ref name=\"imf-statistics-gdp\" />\n",
      "GDP統計年 2012\n",
      "GDP順位 6\n",
      "GDP値 2兆3162億<ref name=\"imf-statistics-gdp\" />\n",
      "GDP/人 36,727<ref name=\"imf-statistics-gdp\" />\n",
      "建国形態 建国\n",
      "確立形態1 [[イングランド王国]]／[[スコットランド王国]]<br />（両国とも[[合同法 (1707年)|1707年合同法]]まで）\n",
      "確立年月日1 927年／843年\n",
      "確立形態2 [[グレートブリテン王国]]成立<br />（1707年合同法）\n",
      "確立年月日2 1707年{{0}}5月{{0}}1日\n",
      "確立形態3 [[グレートブリテン及びアイルランド連合王国]]成立<br />（[[合同法 (1800年)|1800年合同法]]）\n",
      "確立年月日3 1801年{{0}}1月{{0}}1日\n",
      "確立形態4 現在の国号「'''グレートブリテン及び北アイルランド連合王国'''」に変更\n",
      "確立年月日4 1927年{{0}}4月12日\n",
      "通貨 [[スターリング・ポンド|UKポンド]] (£)\n",
      "通貨コード GBP\n",
      "時間帯 ±0\n",
      "夏時間 +1\n",
      "ISO 3166-1 GB / GBR\n",
      "ccTLD [[.uk]] / [[.gb]]<ref>使用は.ukに比べ圧倒的少数。</ref>\n",
      "国際電話番号 44\n",
      "注記 <references/>\n"
     ]
    },
    {
     "data": {
      "text/plain": [
       "{'略名 ': 'イギリス',\n",
       " '日本語国名': 'グレートブリテン及び北アイルランド連合王国',\n",
       " '公式国名': '{{lang|en|United Kingdom of Great Britain and Northern Ireland}}<ref>英語以外での正式国名:<br />',\n",
       " '国旗画像': 'Flag of the United Kingdom.svg',\n",
       " '国章画像': '[[ファイル:Royal Coat of Arms of the United Kingdom.svg|85px|イギリスの国章]]',\n",
       " '国章リンク': '（[[イギリスの国章|国章]]）',\n",
       " '標語': '{{lang|fr|[[Dieu et mon droit]]}}<br />（[[フランス語]]:[[Dieu et mon droit|神と我が権利]]）',\n",
       " '国歌': \"[[女王陛下万歳|{{lang|en|God Save the Queen}}]]{{en icon}}<br />''神よ女王を護り賜え''<br />{{center|[[ファイル:United States Navy Band - God Save the Queen.ogg]]}}\",\n",
       " '地図画像': 'Europe-UK.svg',\n",
       " '位置画像': 'United Kingdom (+overseas territories) in the World (+Antarctica claims).svg',\n",
       " '公用語': '[[英語]]',\n",
       " '首都': '[[ロンドン]]（事実上）',\n",
       " '最大都市': 'ロンドン',\n",
       " '元首等肩書': '[[イギリスの君主|女王]]',\n",
       " '元首等氏名': '[[エリザベス2世]]',\n",
       " '首相等肩書': '[[イギリスの首相|首相]]',\n",
       " '首相等氏名': '[[ボリス・ジョンソン]]',\n",
       " '他元首等肩書1': '[[貴族院 (イギリス)|貴族院議長]]',\n",
       " '他元首等氏名1': '[[:en:Norman Fowler, Baron Fowler|ノーマン・ファウラー]]',\n",
       " '他元首等肩書2': '[[庶民院 (イギリス)|庶民院議長]]',\n",
       " '他元首等氏名2': '{{仮リンク|リンゼイ・ホイル|en|Lindsay Hoyle}}',\n",
       " '他元首等肩書3': '[[連合王国最高裁判所|最高裁判所長官]]',\n",
       " '他元首等氏名3': '[[:en:Brenda Hale, Baroness Hale of Richmond|ブレンダ・ヘイル]]',\n",
       " '面積順位': '76',\n",
       " '面積大きさ': '1 E11',\n",
       " '面積値': '244,820',\n",
       " '水面積率': '1.3%',\n",
       " '人口統計年': '2018',\n",
       " '人口順位': '22',\n",
       " '人口大きさ': '1 E7',\n",
       " '人口値': '6643万5600<ref>{{Cite web|url=https://www.ons.gov.uk/peoplepopulationandcommunity/populationandmigration/populationestimates|title=Population estimates - Office for National Statistics|accessdate=2019-06-26|date=2019-06-26}}</ref>',\n",
       " '人口密度値': '271',\n",
       " 'GDP統計年元': '2012',\n",
       " 'GDP値元': '1兆5478億<ref name=\"imf-statistics-gdp\">[http://www.imf.org/external/pubs/ft/weo/2012/02/weodata/weorept.aspx?pr.x=70&pr.y=13&sy=2010&ey=2012&scsm=1&ssd=1&sort=country&ds=.&br=1&c=112&s=NGDP%2CNGDPD%2CPPPGDP%2CPPPPC&grp=0&a=IMF>Data and Statistics>World Economic Outlook Databases>By Countrise>United Kingdom]</ref>',\n",
       " 'GDP統計年MER': '2012',\n",
       " 'GDP順位MER': '6',\n",
       " 'GDP値MER': '2兆4337億<ref name=\"imf-statistics-gdp\" />',\n",
       " 'GDP統計年': '2012',\n",
       " 'GDP順位': '6',\n",
       " 'GDP値': '2兆3162億<ref name=\"imf-statistics-gdp\" />',\n",
       " 'GDP/人': '36,727<ref name=\"imf-statistics-gdp\" />',\n",
       " '建国形態': '建国',\n",
       " '確立形態1': '[[イングランド王国]]／[[スコットランド王国]]<br />（両国とも[[合同法 (1707年)|1707年合同法]]まで）',\n",
       " '確立年月日1': '927年／843年',\n",
       " '確立形態2': '[[グレートブリテン王国]]成立<br />（1707年合同法）',\n",
       " '確立年月日2': '1707年{{0}}5月{{0}}1日',\n",
       " '確立形態3': '[[グレートブリテン及びアイルランド連合王国]]成立<br />（[[合同法 (1800年)|1800年合同法]]）',\n",
       " '確立年月日3': '1801年{{0}}1月{{0}}1日',\n",
       " '確立形態4': \"現在の国号「'''グレートブリテン及び北アイルランド連合王国'''」に変更\",\n",
       " '確立年月日4': '1927年{{0}}4月12日',\n",
       " '通貨': '[[スターリング・ポンド|UKポンド]] (£)',\n",
       " '通貨コード': 'GBP',\n",
       " '時間帯': '±0',\n",
       " '夏時間': '+1',\n",
       " 'ISO 3166-1': 'GB / GBR',\n",
       " 'ccTLD': '[[.uk]] / [[.gb]]<ref>使用は.ukに比べ圧倒的少数。</ref>',\n",
       " '国際電話番号': '44',\n",
       " '注記': '<references/>'}"
      ]
     },
     "execution_count": 10,
     "metadata": {},
     "output_type": "execute_result"
    }
   ],
   "source": [
    "fundamental_info = {}\n",
    "for item in result:\n",
    "    print(item[0],item[1])\n",
    "    fundamental_info[item[0]] = item[1]\n",
    "fundamental_info"
   ]
  },
  {
   "cell_type": "code",
   "execution_count": 11,
   "id": "1f4ad665-08f3-4491-9190-8211053e47a3",
   "metadata": {},
   "outputs": [
    {
     "data": {
      "text/plain": [
       "'36,727<ref name=\"imf-statistics-gdp\" />'"
      ]
     },
     "execution_count": 11,
     "metadata": {},
     "output_type": "execute_result"
    }
   ],
   "source": [
    "fundamental_info['GDP/人']"
   ]
  },
  {
   "cell_type": "markdown",
   "id": "89f1d9a2-9c9c-486f-b22d-4569cf0e76e7",
   "metadata": {
    "id": "89f1d9a2-9c9c-486f-b22d-4569cf0e76e7"
   },
   "source": [
    "## 26. 強調マークアップの除去\n",
    "25の処理時に、テンプレートの値からMediaWikiの強調マークアップ（弱い強調、強調、強い強調のすべて）を除去してテキストに変換せよ（参考: [マークアップ早見表](http://ja.wikipedia.org/wiki/Help:%E6%97%A9%E8%A6%8B%E8%A1%A8)）。"
   ]
  },
  {
   "cell_type": "code",
   "execution_count": 12,
   "id": "b2a2e492-f52b-49be-8bf2-030168e222d7",
   "metadata": {},
   "outputs": [
    {
     "name": "stdout",
     "output_type": "stream",
     "text": [
      "略名 イギリス\n",
      "日本語国名グレートブリテン及び北アイルランド連合王国\n",
      "公式国名{{lang|en|United Kingdom of Great Britain and Northern Ireland}}<ref>英語以外での正式国名:<br />\n",
      "国旗画像Flag of the United Kingdom.svg\n",
      "国章画像[[ファイル:Royal Coat of Arms of the United Kingdom.svg|85px|イギリスの国章]]\n",
      "国章リンク（[[イギリスの国章|国章]]）\n",
      "標語{{lang|fr|[[Dieu et mon droit]]}}<br />（[[フランス語]]:[[Dieu et mon droit|神と我が権利]]）\n",
      "国歌[[女王陛下万歳|{{lang|en|God Save the Queen}}]]{{en icon}}<br />神よ女王を護り賜え<br />{{center|[[ファイル:United States Navy Band - God Save the Queen.ogg]]}}\n",
      "地図画像Europe-UK.svg\n",
      "位置画像United Kingdom (+overseas territories) in the World (+Antarctica claims).svg\n",
      "公用語[[英語]]\n",
      "首都[[ロンドン]]（事実上）\n",
      "最大都市ロンドン\n",
      "元首等肩書[[イギリスの君主|女王]]\n",
      "元首等氏名[[エリザベス2世]]\n",
      "首相等肩書[[イギリスの首相|首相]]\n",
      "首相等氏名[[ボリス・ジョンソン]]\n",
      "他元首等肩書1[[貴族院 (イギリス)|貴族院議長]]\n",
      "他元首等氏名1[[:en:Norman Fowler, Baron Fowler|ノーマン・ファウラー]]\n",
      "他元首等肩書2[[庶民院 (イギリス)|庶民院議長]]\n",
      "他元首等氏名2{{仮リンク|リンゼイ・ホイル|en|Lindsay Hoyle}}\n",
      "他元首等肩書3[[連合王国最高裁判所|最高裁判所長官]]\n",
      "他元首等氏名3[[:en:Brenda Hale, Baroness Hale of Richmond|ブレンダ・ヘイル]]\n",
      "面積順位76\n",
      "面積大きさ1 E11\n",
      "面積値244,820\n",
      "水面積率1.3%\n",
      "人口統計年2018\n",
      "人口順位22\n",
      "人口大きさ1 E7\n",
      "人口値6643万5600<ref>{{Cite web|url=https://www.ons.gov.uk/peoplepopulationandcommunity/populationandmigration/populationestimates|title=Population estimates - Office for National Statistics|accessdate=2019-06-26|date=2019-06-26}}</ref>\n",
      "人口密度値271\n",
      "GDP統計年元2012\n",
      "GDP値元1兆5478億<ref name=\"imf-statistics-gdp\">[http://www.imf.org/external/pubs/ft/weo/2012/02/weodata/weorept.aspx?pr.x=70&pr.y=13&sy=2010&ey=2012&scsm=1&ssd=1&sort=country&ds=.&br=1&c=112&s=NGDP%2CNGDPD%2CPPPGDP%2CPPPPC&grp=0&a=IMF>Data and Statistics>World Economic Outlook Databases>By Countrise>United Kingdom]</ref>\n",
      "GDP統計年MER2012\n",
      "GDP順位MER6\n",
      "GDP値MER2兆4337億<ref name=\"imf-statistics-gdp\" />\n",
      "GDP統計年2012\n",
      "GDP順位6\n",
      "GDP値2兆3162億<ref name=\"imf-statistics-gdp\" />\n",
      "GDP/人36,727<ref name=\"imf-statistics-gdp\" />\n",
      "建国形態建国\n",
      "確立形態1[[イングランド王国]]／[[スコットランド王国]]<br />（両国とも[[合同法 (1707年)|1707年合同法]]まで）\n",
      "確立年月日1927年／843年\n",
      "確立形態2[[グレートブリテン王国]]成立<br />（1707年合同法）\n",
      "確立年月日21707年{{0}}5月{{0}}1日\n",
      "確立形態3[[グレートブリテン及びアイルランド連合王国]]成立<br />（[[合同法 (1800年)|1800年合同法]]）\n",
      "確立年月日31801年{{0}}1月{{0}}1日\n",
      "確立形態4現在の国号「グレートブリテン及び北アイルランド連合王国」に変更\n",
      "確立年月日41927年{{0}}4月12日\n",
      "通貨[[スターリング・ポンド|UKポンド]] (£)\n",
      "通貨コードGBP\n",
      "時間帯±0\n",
      "夏時間+1\n",
      "ISO 3166-1GB / GBR\n",
      "ccTLD[[.uk]] / [[.gb]]<ref>使用は.ukに比べ圧倒的少数。</ref>\n",
      "国際電話番号44\n",
      "注記<references/>\n"
     ]
    }
   ],
   "source": [
    "fundamental_info = {}\n",
    "for item in result:\n",
    "    # print(item[0],item[1])\n",
    "    fundamental_info[item[0]] = item[1]\n",
    "    match_sub = re.sub(\"\\'{2,}(.+?)\\'{2,}\", \"\\\\1\", ''.join(item))\n",
    "    print(match_sub)"
   ]
  },
  {
   "cell_type": "markdown",
   "id": "0f8c7cf4-572a-4161-a764-175a241de203",
   "metadata": {
    "id": "0f8c7cf4-572a-4161-a764-175a241de203"
   },
   "source": [
    "## 27. 内部リンクの除去\n",
    "26の処理に加えて、テンプレートの値からMediaWikiの内部リンクマークアップを除去し、テキストに変換せよ（参考: [マークアップ早見表](http://ja.wikipedia.org/wiki/Help:%E6%97%A9%E8%A6%8B%E8%A1%A8)）。"
   ]
  },
  {
   "cell_type": "code",
   "execution_count": 13,
   "id": "5f6600dd-d472-4da4-92ee-dc283404d6de",
   "metadata": {},
   "outputs": [
    {
     "name": "stdout",
     "output_type": "stream",
     "text": [
      "略名 イギリス\n",
      "日本語国名グレートブリテン及び北アイルランド連合王国\n",
      "公式国名{{lang|en|United Kingdom of Great Britain and Northern Ireland}}<ref>英語以外での正式国名:<br />\n",
      "国旗画像Flag of the United Kingdom.svg\n",
      "国章画像ファイル:Royal Coat of Arms of the United Kingdom.svg|85px|イギリスの国章\n",
      "国章リンク（イギリスの国章|国章）\n",
      "標語{{lang|fr|Dieu et mon droit}}<br />（フランス語:Dieu et mon droit|神と我が権利）\n",
      "国歌女王陛下万歳|{{lang|en|God Save the Queen}}{{en icon}}<br />神よ女王を護り賜え<br />{{center|ファイル:United States Navy Band - God Save the Queen.ogg}}\n",
      "地図画像Europe-UK.svg\n",
      "位置画像United Kingdom (+overseas territories) in the World (+Antarctica claims).svg\n",
      "公用語英語\n",
      "首都ロンドン（事実上）\n",
      "最大都市ロンドン\n",
      "元首等肩書イギリスの君主|女王\n",
      "元首等氏名エリザベス2世\n",
      "首相等肩書イギリスの首相|首相\n",
      "首相等氏名ボリス・ジョンソン\n",
      "他元首等肩書1貴族院 (イギリス)|貴族院議長\n",
      "他元首等氏名1:en:Norman Fowler, Baron Fowler|ノーマン・ファウラー\n",
      "他元首等肩書2庶民院 (イギリス)|庶民院議長\n",
      "他元首等氏名2{{仮リンク|リンゼイ・ホイル|en|Lindsay Hoyle}}\n",
      "他元首等肩書3連合王国最高裁判所|最高裁判所長官\n",
      "他元首等氏名3:en:Brenda Hale, Baroness Hale of Richmond|ブレンダ・ヘイル\n",
      "面積順位76\n",
      "面積大きさ1 E11\n",
      "面積値244,820\n",
      "水面積率1.3%\n",
      "人口統計年2018\n",
      "人口順位22\n",
      "人口大きさ1 E7\n",
      "人口値6643万5600<ref>{{Cite web|url=https://www.ons.gov.uk/peoplepopulationandcommunity/populationandmigration/populationestimates|title=Population estimates - Office for National Statistics|accessdate=2019-06-26|date=2019-06-26}}</ref>\n",
      "人口密度値271\n",
      "GDP統計年元2012\n",
      "GDP値元1兆5478億<ref name=\"imf-statistics-gdp\">[http://www.imf.org/external/pubs/ft/weo/2012/02/weodata/weorept.aspx?pr.x=70&pr.y=13&sy=2010&ey=2012&scsm=1&ssd=1&sort=country&ds=.&br=1&c=112&s=NGDP%2CNGDPD%2CPPPGDP%2CPPPPC&grp=0&a=IMF>Data and Statistics>World Economic Outlook Databases>By Countrise>United Kingdom]</ref>\n",
      "GDP統計年MER2012\n",
      "GDP順位MER6\n",
      "GDP値MER2兆4337億<ref name=\"imf-statistics-gdp\" />\n",
      "GDP統計年2012\n",
      "GDP順位6\n",
      "GDP値2兆3162億<ref name=\"imf-statistics-gdp\" />\n",
      "GDP/人36,727<ref name=\"imf-statistics-gdp\" />\n",
      "建国形態建国\n",
      "確立形態1イングランド王国／スコットランド王国<br />（両国とも合同法 (1707年)|1707年合同法まで）\n",
      "確立年月日1927年／843年\n",
      "確立形態2グレートブリテン王国成立<br />（1707年合同法）\n",
      "確立年月日21707年{{0}}5月{{0}}1日\n",
      "確立形態3グレートブリテン及びアイルランド連合王国成立<br />（合同法 (1800年)|1800年合同法）\n",
      "確立年月日31801年{{0}}1月{{0}}1日\n",
      "確立形態4現在の国号「グレートブリテン及び北アイルランド連合王国」に変更\n",
      "確立年月日41927年{{0}}4月12日\n",
      "通貨スターリング・ポンド|UKポンド (£)\n",
      "通貨コードGBP\n",
      "時間帯±0\n",
      "夏時間+1\n",
      "ISO 3166-1GB / GBR\n",
      "ccTLD.uk / .gb<ref>使用は.ukに比べ圧倒的少数。</ref>\n",
      "国際電話番号44\n",
      "注記<references/>\n"
     ]
    }
   ],
   "source": [
    "fundamental_info = {}\n",
    "for item in result:\n",
    "    # print(item[0],item[1])\n",
    "    fundamental_info[item[0]] = item[1]\n",
    "    match_sub = re.sub(r\"\\'{2,}(.+?)\\'{2,}\", \"\\\\1\", ''.join(item))\n",
    "    match_sub = re.sub(r\"\\[\\[(.+?)\\]\\]\", \"\\\\1\", match_sub)\n",
    "    print(match_sub)"
   ]
  },
  {
   "cell_type": "markdown",
   "id": "ab7fc267-c9dc-47a5-977c-b0d1e417202c",
   "metadata": {
    "id": "ab7fc267-c9dc-47a5-977c-b0d1e417202c"
   },
   "source": [
    "## 28. MediaWikiマークアップの除去\n",
    "27の処理に加えて、テンプレートの値からMediaWikiマークアップを可能な限り除去し、国の基本情報を整形せよ。"
   ]
  },
  {
   "cell_type": "code",
   "execution_count": 14,
   "id": "e339e348-7c75-441d-bbbb-255112ed0162",
   "metadata": {},
   "outputs": [
    {
     "name": "stdout",
     "output_type": "stream",
     "text": [
      "略名 イギリス\n",
      "日本語国名グレートブリテン及び北アイルランド連合王国\n",
      "公式国名lang|en|United Kingdom of Great Britain and Northern Ireland<ref>英語以外での正式国名<br />\n",
      "国旗画像Flag of the United Kingdom.svg\n",
      "国章画像ファイルRoyal Coat of Arms of the United Kingdom.svg|85px|イギリスの国章\n",
      "国章リンク（イギリスの国章|国章）\n",
      "標語lang|fr|Dieu et mon droit<br />（フランス語Dieu et mon droit|神と我が権利）\n",
      "国歌女王陛下万歳|lang|en|God Save the Queenen icon<br />神よ女王を護り賜え<br />center|ファイルUnited States Navy Band - God Save the Queen.ogg\n",
      "地図画像Europe-UK.svg\n",
      "位置画像United Kingdom (+overseas territories) in the World (+Antarctica claims).svg\n",
      "公用語英語\n",
      "首都ロンドン（事実上）\n",
      "最大都市ロンドン\n",
      "元首等肩書イギリスの君主|女王\n",
      "元首等氏名エリザベス2世\n",
      "首相等肩書イギリスの首相|首相\n",
      "首相等氏名ボリス・ジョンソン\n",
      "他元首等肩書1貴族院 (イギリス)|貴族院議長\n",
      "他元首等氏名1enNorman Fowler, Baron Fowler|ノーマン・ファウラー\n",
      "他元首等肩書2庶民院 (イギリス)|庶民院議長\n",
      "他元首等氏名2仮リンク|リンゼイ・ホイル|en|Lindsay Hoyle\n",
      "他元首等肩書3連合王国最高裁判所|最高裁判所長官\n",
      "他元首等氏名3enBrenda Hale, Baroness Hale of Richmond|ブレンダ・ヘイル\n",
      "面積順位76\n",
      "面積大きさ1 E11\n",
      "面積値244,820\n",
      "水面積率1.3%\n",
      "人口統計年2018\n",
      "人口順位22\n",
      "人口大きさ1 E7\n",
      "人口値6643万5600<ref>Cite web|url=https//www.ons.gov.uk/peoplepopulationandcommunity/populationandmigration/populationestimates|title=Population estimates - Office for National Statistics|accessdate=2019-06-26|date=2019-06-26</ref>\n",
      "人口密度値271\n",
      "GDP統計年元2012\n",
      "GDP値元1兆5478億<ref name=\"imf-statistics-gdp\">http//www.imf.org/external/pubs/ft/weo/2012/02/weodata/weorept.aspx?pr.x=70&pr.y=13&sy=2010&ey=2012&scsm=1&ssd=1&sort=country&ds=.&br=1&c=112&s=NGDP%2CNGDPD%2CPPPGDP%2CPPPPC&grp=0&a=IMF>Data and Statistics>World Economic Outlook Databases>By Countrise>United Kingdom</ref>\n",
      "GDP統計年MER2012\n",
      "GDP順位MER6\n",
      "GDP値MER2兆4337億<ref name=\"imf-statistics-gdp\" />\n",
      "GDP統計年2012\n",
      "GDP順位6\n",
      "GDP値2兆3162億<ref name=\"imf-statistics-gdp\" />\n",
      "GDP/人36,727<ref name=\"imf-statistics-gdp\" />\n",
      "建国形態建国\n",
      "確立形態1イングランド王国／スコットランド王国<br />（両国とも合同法 (1707年)|1707年合同法まで）\n",
      "確立年月日1927年／843年\n",
      "確立形態2グレートブリテン王国成立<br />（1707年合同法）\n",
      "確立年月日21707年05月01日\n",
      "確立形態3グレートブリテン及びアイルランド連合王国成立<br />（合同法 (1800年)|1800年合同法）\n",
      "確立年月日31801年01月01日\n",
      "確立形態4現在の国号「グレートブリテン及び北アイルランド連合王国」に変更\n",
      "確立年月日41927年04月12日\n",
      "通貨スターリング・ポンド|UKポンド (£)\n",
      "通貨コードGBP\n",
      "時間帯±0\n",
      "夏時間+1\n",
      "ISO 3166-1GB / GBR\n",
      "ccTLD.uk / .gb<ref>使用は.ukに比べ圧倒的少数。</ref>\n",
      "国際電話番号44\n",
      "注記<references/>\n"
     ]
    }
   ],
   "source": [
    "fundamental_info = {}\n",
    "for item in result:\n",
    "    # print(item[0],item[1])\n",
    "    fundamental_info[item[0]] = item[1]\n",
    "    match_sub = re.sub(r\"\\'{2,}(.+?)\\'{2,}\", \"\\\\1\", ''.join(item))\n",
    "    match_sub = re.sub(r\"\\[\\[(.+?)\\]\\]\", \"\\\\1\", match_sub) #内部リンクマークアップの削除\n",
    "    match_sub = re.sub(r\"\\[(.+?)\\]\", \"\\\\1\", match_sub) #外部リンクマークアップの削除\n",
    "    match_sub = re.sub(r\"\\*+(.+?)\", \"\\\\1\", match_sub) #*箇条書きの削除\n",
    "    match_sub = re.sub(r\"\\:+(.+?)\", \"\\\\1\", match_sub)#定義の箇条書きの削除\n",
    "    match_sub = re.sub(r\"\\{\\{(.+?)\\}\\}\", \"\\\\1\", match_sub) #スタブなどを削除\n",
    "    print(match_sub)"
   ]
  },
  {
   "cell_type": "markdown",
   "id": "c41ec5b6-d9c3-40c7-bfba-d745526b2641",
   "metadata": {
    "id": "c41ec5b6-d9c3-40c7-bfba-d745526b2641"
   },
   "source": [
    "## 29. 国旗画像のURLを取得する\n",
    "テンプレートの内容を利用し、国旗画像のURLを取得せよ。（ヒント: [MediaWiki API](http://www.mediawiki.org/wiki/API:Main_page/ja)の[imageinfo](https://www.mediawiki.org/wiki/API:Imageinfo)を呼び出して、ファイル参照をURLに変換すればよい）"
   ]
  },
  {
   "cell_type": "code",
   "execution_count": 23,
   "id": "9f9fba19-557c-48c2-8534-39a3197f8379",
   "metadata": {},
   "outputs": [
    {
     "name": "stderr",
     "output_type": "stream",
     "text": [
      "/Users/ryuichi/.venv/lib/python3.11/site-packages/urllib3/connectionpool.py:1097: InsecureRequestWarning: Unverified HTTPS request is being made to host 'en.wikipedia.org'. Adding certificate verification is strongly advised. See: https://urllib3.readthedocs.io/en/latest/advanced-usage.html#tls-warnings\n",
      "  warnings.warn(\n"
     ]
    },
    {
     "name": "stdout",
     "output_type": "stream",
     "text": [
      "https://upload.wikimedia.org/wikipedia/en/a/ae/Flag_of_the_United_Kingdom.svg\n"
     ]
    }
   ],
   "source": [
    "import requests\n",
    " \n",
    "S = requests.Session()\n",
    "URL = \"https://en.wikipedia.org/w/api.php\"\n",
    "\n",
    "PARAMS = {\n",
    "    \"action\": \"query\",\n",
    "    \"format\": \"json\",\n",
    "    \"prop\": \"imageinfo\",\n",
    "    \"titles\": f\"File:{fundamental_info['国旗画像']}\",\n",
    "    \"iiprop\":\"url\"\n",
    "}\n",
    " \n",
    "R = S.get(url=URL, params=PARAMS, verify=False) #ZCCが邪魔するので、False指定が必要\n",
    "\n",
    "DATA = R.json()\n",
    "PAGES = DATA[\"query\"][\"pages\"]\n",
    " \n",
    "for k, v in PAGES.items():\n",
    "    print(v[\"imageinfo\"][0][\"url\"])"
   ]
  },
  {
   "cell_type": "code",
   "execution_count": 26,
   "id": "138f7e58-f94e-4ca5-b9de-1e5390688a64",
   "metadata": {},
   "outputs": [
    {
     "name": "stderr",
     "output_type": "stream",
     "text": [
      "/Users/ryuichi/.venv/lib/python3.11/site-packages/urllib3/connectionpool.py:1097: InsecureRequestWarning: Unverified HTTPS request is being made to host 'upload.wikimedia.org'. Adding certificate verification is strongly advised. See: https://urllib3.readthedocs.io/en/latest/advanced-usage.html#tls-warnings\n",
      "  warnings.warn(\n"
     ]
    },
    {
     "data": {
      "image/svg+xml": [
       "<svg xmlns=\"http://www.w3.org/2000/svg\" viewBox=\"0 0 60 30\" width=\"1200\" height=\"600\">\n",
       "<clipPath id=\"s\">\n",
       "\t<path d=\"M0,0 v30 h60 v-30 z\"/>\n",
       "</clipPath>\n",
       "<clipPath id=\"t\">\n",
       "\t<path d=\"M30,15 h30 v15 z v15 h-30 z h-30 v-15 z v-15 h30 z\"/>\n",
       "</clipPath>\n",
       "<g clip-path=\"url(#s)\">\n",
       "\t<path d=\"M0,0 v30 h60 v-30 z\" fill=\"#012169\"/>\n",
       "\t<path d=\"M0,0 L60,30 M60,0 L0,30\" stroke=\"#fff\" stroke-width=\"6\"/>\n",
       "\t<path d=\"M0,0 L60,30 M60,0 L0,30\" clip-path=\"url(#t)\" stroke=\"#C8102E\" stroke-width=\"4\"/>\n",
       "\t<path d=\"M30,0 v30 M0,15 h60\" stroke=\"#fff\" stroke-width=\"10\"/>\n",
       "\t<path d=\"M30,0 v30 M0,15 h60\" stroke=\"#C8102E\" stroke-width=\"6\"/>\n",
       "</g>\n",
       "</svg>"
      ],
      "text/plain": [
       "<IPython.core.display.SVG object>"
      ]
     },
     "metadata": {},
     "output_type": "display_data"
    }
   ],
   "source": [
    "import requests\n",
    "from IPython.display import SVG, Image # Import both just in case, but we'll use SVG for this link\n",
    "\n",
    "image_url = \"https://upload.wikimedia.org/wikipedia/en/a/ae/Flag_of_the_United_Kingdom.svg\"\n",
    "\n",
    "response = requests.get(image_url, verify=False)\n",
    "display(SVG(data=response.content))"
   ]
  },
  {
   "cell_type": "code",
   "execution_count": null,
   "id": "a888a387-b017-46b1-aa71-849e0b4a030b",
   "metadata": {},
   "outputs": [],
   "source": []
  }
 ],
 "metadata": {
  "colab": {
   "provenance": []
  },
  "kernelspec": {
   "display_name": "Python 3 (ipykernel)",
   "language": "python",
   "name": "python3"
  },
  "language_info": {
   "codemirror_mode": {
    "name": "ipython",
    "version": 3
   },
   "file_extension": ".py",
   "mimetype": "text/x-python",
   "name": "python",
   "nbconvert_exporter": "python",
   "pygments_lexer": "ipython3",
   "version": "3.11.12"
  }
 },
 "nbformat": 4,
 "nbformat_minor": 5
}
