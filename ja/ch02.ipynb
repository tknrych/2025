{
 "cells": [
  {
   "cell_type": "markdown",
   "id": "38daedde-589c-4cac-bf43-2b13485898cb",
   "metadata": {
    "editable": true,
    "id": "38daedde-589c-4cac-bf43-2b13485898cb",
    "tags": []
   },
   "source": [
    "# 第2章: UNIXコマンド\n",
    "\n",
    "[popular-names.txt](/data/popular-names.txt)は、アメリカで生まれた赤ちゃんの「名前」「性別」「人数」「年」をタブ区切り形式で格納したファイルである。以下の処理を行うプログラムを作成し、[popular-names.txt](/data/popular-names.txt)を入力ファイルとして実行せよ。さらに、同様の処理をUNIXコマンドでも実行し、プログラムの実行結果を確認せよ。"
   ]
  },
  {
   "cell_type": "markdown",
   "id": "d0cd8b46-ec72-459e-8cd4-285ac3601172",
   "metadata": {
    "editable": true,
    "id": "d0cd8b46-ec72-459e-8cd4-285ac3601172",
    "tags": []
   },
   "source": [
    "## 10. 行数のカウント\n",
    "ファイルの行数をカウントせよ。確認にはwcコマンドを用いよ。"
   ]
  },
  {
   "cell_type": "code",
   "execution_count": 1,
   "id": "56b59128-b445-4b0d-9982-25153aa6b823",
   "metadata": {},
   "outputs": [
    {
     "name": "stdout",
     "output_type": "stream",
     "text": [
      "wc: ../data/popular-names.txt: No such file or directory\n"
     ]
    }
   ],
   "source": [
    "!wc -l ../data/popular-names.txt"
   ]
  },
  {
   "cell_type": "markdown",
   "id": "275b8ac0-17a1-4df2-9287-efae1f0c6740",
   "metadata": {
    "id": "275b8ac0-17a1-4df2-9287-efae1f0c6740"
   },
   "source": [
    "## 11. 先頭からN行を出力\n",
    "ファイルの先頭N行だけを表示せよ。例えば、N=10として先頭10行を表示せよ。確認にはheadコマンドを用いよ。"
   ]
  },
  {
   "cell_type": "code",
   "execution_count": 11,
   "id": "b7593d79-b61d-4eb7-b52d-52839bb2c4b3",
   "metadata": {},
   "outputs": [
    {
     "name": "stdout",
     "output_type": "stream",
     "text": [
      "Mary\tF\t7065\t1880\n",
      "Anna\tF\t2604\t1880\n",
      "Emma\tF\t2003\t1880\n",
      "Elizabeth\tF\t1939\t1880\n",
      "Minnie\tF\t1746\t1880\n",
      "Margaret\tF\t1578\t1880\n",
      "Ida\tF\t1472\t1880\n",
      "Alice\tF\t1414\t1880\n",
      "Bertha\tF\t1320\t1880\n",
      "Sarah\tF\t1288\t1880\n"
     ]
    }
   ],
   "source": [
    "!N=10; head -n $N ../data/popular-names.txt"
   ]
  },
  {
   "cell_type": "markdown",
   "id": "b7606710-56c9-4aea-90c8-48e57c3c73df",
   "metadata": {
    "id": "b7606710-56c9-4aea-90c8-48e57c3c73df"
   },
   "source": [
    "## 12. 末尾のN行を出力\n",
    "ファイルの末尾N行だけを表示せよ。例えば、N=10として末尾10行を表示せよ。確認にはtailコマンドを用いよ。"
   ]
  },
  {
   "cell_type": "code",
   "execution_count": 12,
   "id": "7877b54b-82dd-4607-a0eb-99886a9162ad",
   "metadata": {},
   "outputs": [
    {
     "name": "stdout",
     "output_type": "stream",
     "text": [
      "Liam\tM\t19837\t2018\n",
      "Noah\tM\t18267\t2018\n",
      "William\tM\t14516\t2018\n",
      "James\tM\t13525\t2018\n",
      "Oliver\tM\t13389\t2018\n",
      "Benjamin\tM\t13381\t2018\n",
      "Elijah\tM\t12886\t2018\n",
      "Lucas\tM\t12585\t2018\n",
      "Mason\tM\t12435\t2018\n",
      "Logan\tM\t12352\t2018\n"
     ]
    }
   ],
   "source": [
    "!N=10; tail -n $N ../data/popular-names.txt"
   ]
  },
  {
   "cell_type": "markdown",
   "id": "6ce5a4f0-b73a-43a0-be8c-c78142882e5c",
   "metadata": {
    "id": "6ce5a4f0-b73a-43a0-be8c-c78142882e5c"
   },
   "source": [
    "## 13. タブをスペースに置換\n",
    "ファイルの先頭10行に対して、タブ1文字につきスペース1文字に置換して出力せよ。確認にはsedコマンド、trコマンド、もしくはexpandコマンドなどを用いよ。"
   ]
  },
  {
   "cell_type": "code",
   "execution_count": 14,
   "id": "4c4bee33-6985-4048-8091-3e079d7e404c",
   "metadata": {},
   "outputs": [
    {
     "name": "stdout",
     "output_type": "stream",
     "text": [
      "Mary F 7065 1880\n",
      "Anna F 2604 1880\n",
      "Emma F 2003 1880\n",
      "Elizabeth F 1939 1880\n",
      "Minnie F 1746 1880\n",
      "Margaret F 1578 1880\n",
      "Ida F 1472 1880\n",
      "Alice F 1414 1880\n",
      "Bertha F 1320 1880\n",
      "Sarah F 1288 1880\n"
     ]
    }
   ],
   "source": [
    "!N=10; head -n $N ../data/popular-names.txt | sed -e \"s/\\t/ /g\""
   ]
  },
  {
   "cell_type": "markdown",
   "id": "eaef4ffb-c436-41ab-a649-e4d5fd385a76",
   "metadata": {
    "id": "eaef4ffb-c436-41ab-a649-e4d5fd385a76"
   },
   "source": [
    "## 14. 1列目を出力\n",
    "ファイルの先頭10行に対して、各行の1列目だけを抜き出して表示せよ。確認にはcutコマンドなどを用いよ。"
   ]
  },
  {
   "cell_type": "code",
   "execution_count": 15,
   "id": "c12f8455-0f08-4a76-b8b8-428c58f66b74",
   "metadata": {},
   "outputs": [
    {
     "name": "stdout",
     "output_type": "stream",
     "text": [
      "Mary\n",
      "Anna\n",
      "Emma\n",
      "Elizabeth\n",
      "Minnie\n",
      "Margaret\n",
      "Ida\n",
      "Alice\n",
      "Bertha\n",
      "Sarah\n"
     ]
    }
   ],
   "source": [
    "!N=10; head -n $N ../data/popular-names.txt | cut -f 1"
   ]
  },
  {
   "cell_type": "markdown",
   "id": "00c76a76-98bc-4ccc-918d-459b8d7954cf",
   "metadata": {
    "id": "00c76a76-98bc-4ccc-918d-459b8d7954cf"
   },
   "source": [
    "## 15. ファイルをN分割する\n",
    "ファイルを行単位でN分割し、別のファイルに格納せよ。例えば、N=10としてファイルを10分割せよ。同様の処理をsplitコマンドで実現せよ。"
   ]
  },
  {
   "cell_type": "code",
   "execution_count": 18,
   "id": "ee8d5164-ba97-4c34-b495-4a7250f5bef8",
   "metadata": {},
   "outputs": [],
   "source": [
    "!rm x*\n",
    "!N=10; split -l $N ../data/popular-names.txt\n",
    "!ls -al"
   ]
  },
  {
   "cell_type": "markdown",
   "id": "bc88859b-8a4d-4028-9aa4-684ab5ad9797",
   "metadata": {
    "id": "bc88859b-8a4d-4028-9aa4-684ab5ad9797"
   },
   "source": [
    "## 16. ランダムに各行を並び替える\n",
    "ファイルを行単位でランダムに並び替えよ（注意: 各行の内容は変更せずに並び替えよ）。同様の処理をshufコマンドで実現せよ。"
   ]
  },
  {
   "cell_type": "code",
   "execution_count": 22,
   "id": "6e97b44c-52cb-48ef-8ab3-1dca12603029",
   "metadata": {},
   "outputs": [
    {
     "name": "stdout",
     "output_type": "stream",
     "text": [
      "Mary\tF\t7065\t1880\n",
      "Anna\tF\t2604\t1880\n",
      "Emma\tF\t2003\t1880\n",
      "Elizabeth\tF\t1939\t1880\n",
      "Minnie\tF\t1746\t1880\n",
      "Margaret\tF\t1578\t1880\n",
      "Ida\tF\t1472\t1880\n",
      "Alice\tF\t1414\t1880\n",
      "Bertha\tF\t1320\t1880\n",
      "Sarah\tF\t1288\t1880\n"
     ]
    }
   ],
   "source": [
    "!N=10; head -n $N ../data/popular-names.txt"
   ]
  },
  {
   "cell_type": "code",
   "execution_count": 28,
   "id": "4df83df8-f905-4db0-9405-0cc10e1351be",
   "metadata": {},
   "outputs": [
    {
     "name": "stdout",
     "output_type": "stream",
     "text": [
      "Ethan\tM\t21357\t2003\n",
      "Sarah\tF\t25884\t1984\n",
      "George\tM\t22784\t1930\n",
      "David\tM\t36786\t1987\n",
      "Brittany\tF\t22231\t1987\n",
      "Elizabeth\tF\t19842\t1983\n",
      "Michael\tM\t86917\t1961\n",
      "Frances\tF\t12787\t1915\n",
      "Betty\tF\t25866\t1936\n",
      "Linda\tF\t52710\t1946\n"
     ]
    }
   ],
   "source": [
    "!N=10; shuf ../data/popular-names.txt | head -n $N"
   ]
  },
  {
   "cell_type": "markdown",
   "id": "1041d23d-1a44-49c3-b95a-223fa9e3d3ae",
   "metadata": {
    "id": "1041d23d-1a44-49c3-b95a-223fa9e3d3ae"
   },
   "source": [
    "## 17. １列目の文字列の異なり\n",
    "1列目の文字列の異なり（文字列の種類）を求めよ。確認にはcut, sort, uniqコマンドを用いよ。"
   ]
  },
  {
   "cell_type": "code",
   "execution_count": 30,
   "id": "a75090c2-04c8-4dde-80cf-5ddfe9e96664",
   "metadata": {},
   "outputs": [
    {
     "name": "stdout",
     "output_type": "stream",
     "text": [
      "Abigail\n",
      "Aiden\n",
      "Alexander\n",
      "Alexis\n",
      "Alice\n",
      "Amanda\n",
      "Amelia\n",
      "Amy\n",
      "Andrew\n",
      "Angela\n",
      "Anna\n",
      "Annie\n",
      "Anthony\n",
      "Ashley\n",
      "Austin\n",
      "Ava\n",
      "Barbara\n",
      "Benjamin\n",
      "Bertha\n",
      "Bessie\n",
      "Betty\n",
      "Brandon\n",
      "Brian\n",
      "Brittany\n",
      "Carol\n",
      "Carolyn\n",
      "Charles\n",
      "Charlotte\n",
      "Chloe\n",
      "Christopher\n",
      "Clara\n",
      "Crystal\n",
      "Cynthia\n",
      "Daniel\n",
      "David\n",
      "Deborah\n",
      "Debra\n",
      "Donald\n",
      "Donna\n",
      "Doris\n",
      "Dorothy\n",
      "Edward\n",
      "Elijah\n",
      "Elizabeth\n",
      "Emily\n",
      "Emma\n",
      "Ethan\n",
      "Ethel\n",
      "Evelyn\n",
      "Florence\n",
      "Frances\n",
      "Frank\n",
      "Gary\n",
      "George\n",
      "Hannah\n",
      "Harper\n",
      "Harry\n",
      "Heather\n",
      "Helen\n",
      "Henry\n",
      "Ida\n",
      "Isabella\n",
      "Jacob\n",
      "James\n",
      "Jason\n",
      "Jayden\n",
      "Jeffrey\n",
      "Jennifer\n",
      "Jessica\n",
      "Joan\n",
      "John\n",
      "Joseph\n",
      "Joshua\n",
      "Judith\n",
      "Julie\n",
      "Justin\n",
      "Karen\n",
      "Kathleen\n",
      "Kelly\n",
      "Kimberly\n",
      "Larry\n",
      "Laura\n",
      "Lauren\n",
      "Liam\n",
      "Lillian\n",
      "Linda\n",
      "Lisa\n",
      "Logan\n",
      "Lori\n",
      "Lucas\n",
      "Madison\n",
      "Margaret\n",
      "Marie\n",
      "Mark\n",
      "Mary\n",
      "Mason\n",
      "Matthew\n",
      "Megan\n",
      "Melissa\n",
      "Mia\n",
      "Michael\n",
      "Michelle\n",
      "Mildred\n",
      "Minnie\n",
      "Nancy\n",
      "Nicholas\n",
      "Nicole\n",
      "Noah\n",
      "Oliver\n",
      "Olivia\n",
      "Pamela\n",
      "Patricia\n",
      "Rachel\n",
      "Rebecca\n",
      "Richard\n",
      "Robert\n",
      "Ronald\n",
      "Ruth\n",
      "Samantha\n",
      "Sandra\n",
      "Sarah\n",
      "Scott\n",
      "Sharon\n",
      "Shirley\n",
      "Sophia\n",
      "Stephanie\n",
      "Steven\n",
      "Susan\n",
      "Tammy\n",
      "Taylor\n",
      "Thomas\n",
      "Tracy\n",
      "Tyler\n",
      "Virginia\n",
      "Walter\n",
      "William\n"
     ]
    }
   ],
   "source": [
    "!cut -f 1 ../data/popular-names.txt | sort | uniq"
   ]
  },
  {
   "cell_type": "markdown",
   "id": "3f5363e2-d751-40cc-958c-86d8b185089d",
   "metadata": {
    "id": "3f5363e2-d751-40cc-958c-86d8b185089d"
   },
   "source": [
    "## 18. 各行の1列目の文字列の出現頻度を求め、出現頻度の高い順に並べる\n",
    "1列目の文字列の出現頻度を求め、出現頻度と名前を出現頻度の多い順に並べて表示せよ。確認にはcut, uniq, sortコマンドを用いよ。"
   ]
  },
  {
   "cell_type": "code",
   "execution_count": 3,
   "id": "c72b2e17-cff9-4151-a353-ac7941f475b6",
   "metadata": {},
   "outputs": [
    {
     "name": "stdout",
     "output_type": "stream",
     "text": [
      " 118 James\n",
      " 111 William\n",
      " 108 Robert\n",
      " 108 John\n",
      "  92 Mary\n",
      "  75 Charles\n",
      "  74 Michael\n",
      "  73 Elizabeth\n",
      "  70 Joseph\n",
      "  60 Margaret\n",
      "  58 Thomas\n",
      "  58 George\n",
      "  57 David\n",
      "  51 Richard\n",
      "  45 Helen\n",
      "  43 Frank\n",
      "  43 Christopher\n",
      "  41 Anna\n",
      "  40 Edward\n",
      "  39 Ruth\n"
     ]
    }
   ],
   "source": [
    "!cut -f 1 ../data/popular-names.txt | sort | uniq -c | sort -r | head -n 20"
   ]
  },
  {
   "cell_type": "markdown",
   "id": "5ea1c928-6748-4f02-9e65-2110655b30d8",
   "metadata": {
    "id": "5ea1c928-6748-4f02-9e65-2110655b30d8"
   },
   "source": [
    "## 19. 3列目の数値の降順に各行を並び替える\n",
    "3列目の数値の逆順でファイルの各行を整列せよ（注意: 各行の内容は変更せずに並び替えよ）。同様の処理をsortコマンドで実現せよ。"
   ]
  },
  {
   "cell_type": "code",
   "execution_count": 4,
   "id": "eb1d6ff9-8506-4136-a602-2b073bcc0a7a",
   "metadata": {},
   "outputs": [
    {
     "name": "stdout",
     "output_type": "stream",
     "text": [
      "Charlotte\tF\t10115\t2014\n",
      "Harper\tF\t10295\t2015\n",
      "Madison\tF\t10320\t2014\n",
      "Evelyn\tF\t10376\t2018\n",
      "Helen\tF\t10479\t1910\n",
      "Harper\tF\t10582\t2018\n",
      "William\tM\t10593\t1911\n",
      "Madison\tF\t10596\t2013\n",
      "Abigail\tF\t10607\t2017\n",
      "Mia\tF\t10639\t2010\n",
      "Evelyn\tF\t10712\t2017\n",
      "Harper\tF\t10787\t2016\n",
      "Emily\tF\t10972\t2016\n",
      "Chloe\tF\t10991\t2011\n",
      "Charles\tM\t11070\t1912\n",
      "Ruth\tF\t11280\t1912\n",
      "Elizabeth\tF\t11367\t1914\n",
      "Madison\tF\t11397\t2012\n",
      "Charlotte\tF\t11398\t2015\n",
      "Mia\tF\t11426\t2009\n",
      "sort: Broken pipe\n"
     ]
    }
   ],
   "source": [
    "!sort -k 3 ../data/popular-names.txt | head -n 20"
   ]
  },
  {
   "cell_type": "code",
   "execution_count": null,
   "id": "3a6e466d-e32a-45bb-a704-d2de24aa2a4c",
   "metadata": {},
   "outputs": [],
   "source": []
  }
 ],
 "metadata": {
  "colab": {
   "provenance": []
  },
  "kernelspec": {
   "display_name": "Python 3 (ipykernel)",
   "language": "python",
   "name": "python3"
  },
  "language_info": {
   "codemirror_mode": {
    "name": "ipython",
    "version": 3
   },
   "file_extension": ".py",
   "mimetype": "text/x-python",
   "name": "python",
   "nbconvert_exporter": "python",
   "pygments_lexer": "ipython3",
   "version": "3.11.11"
  }
 },
 "nbformat": 4,
 "nbformat_minor": 5
}
