{
 "cells": [
  {
   "cell_type": "markdown",
   "id": "bf8022b0-6a02-44e3-b2da-ef2efca867e7",
   "metadata": {
    "editable": true,
    "id": "bf8022b0-6a02-44e3-b2da-ef2efca867e7",
    "slideshow": {
     "slide_type": ""
    },
    "tags": []
   },
   "source": [
    "# 第5章: 大規模言語モデル\n",
    "\n",
    "この章では、大規模言語モデル (LLM; Large Language Model) の利用し、様々なタスクに取り組む。大規模言語モデルをプログラムからAPI経由で呼び出すことを想定しており、そのAPIの利用で費用が発生する可能性があることに留意せよ。"
   ]
  },
  {
   "cell_type": "markdown",
   "id": "1cb183db-021f-41f5-b719-15f34fe14da2",
   "metadata": {
    "id": "1cb183db-021f-41f5-b719-15f34fe14da2"
   },
   "source": [
    "## 40. Zero-Shot推論\n",
    "\n",
    "以下の問題の解答を作成せよ。ただし、解答生成はzero-shot推論とせよ。\n",
    "\n",
    "```\n",
    "9世紀に活躍した人物に関係するできごとについて述べた次のア～ウを年代の古い順に正しく並べよ。\n",
    "\n",
    "ア　藤原時平は，策謀を用いて菅原道真を政界から追放した。\n",
    "イ　嵯峨天皇は，藤原冬嗣らを蔵人頭に任命した。\n",
    "ウ　藤原良房は，承和の変後，藤原氏の中での北家の優位を確立した。\n",
    "```\n",
    "\n",
    "出典: [令和5年度第1回高等学校卒業程度認定試験問題](https://www.mext.go.jp/a_menu/koutou/shiken/kakomon/1411255_00010.htm) [日本史AB 問題](https://www.mext.go.jp/content/20240523-mxt_syogai02-mext_000031286_03nihonshi.pdf) 日本史B 1 問3"
   ]
  },
  {
   "cell_type": "code",
   "execution_count": 1,
   "id": "ae40a4eb-7266-44eb-a4fc-419029030d98",
   "metadata": {},
   "outputs": [
    {
     "name": "stdout",
     "output_type": "stream",
     "text": [
      "\u001b[2mUsing Python 3.11.12 environment at: /home/ryuichi/.venv\u001b[0m\n",
      "\u001b[2K\u001b[2mResolved \u001b[1m16 packages\u001b[0m \u001b[2min 537ms\u001b[0m\u001b[0m                                        \u001b[0m\n",
      "\u001b[2K\u001b[2mPrepared \u001b[1m7 packages\u001b[0m \u001b[2min 312ms\u001b[0m\u001b[0m                                             \n",
      "\u001b[2K\u001b[2mInstalled \u001b[1m7 packages\u001b[0m \u001b[2min 19ms\u001b[0m\u001b[0m                                \u001b[0m\n",
      " \u001b[32m+\u001b[39m \u001b[1mannotated-types\u001b[0m\u001b[2m==0.7.0\u001b[0m\n",
      " \u001b[32m+\u001b[39m \u001b[1mdistro\u001b[0m\u001b[2m==1.9.0\u001b[0m\n",
      " \u001b[32m+\u001b[39m \u001b[1mjiter\u001b[0m\u001b[2m==0.9.0\u001b[0m\n",
      " \u001b[32m+\u001b[39m \u001b[1mopenai\u001b[0m\u001b[2m==1.77.0\u001b[0m\n",
      " \u001b[32m+\u001b[39m \u001b[1mpydantic\u001b[0m\u001b[2m==2.11.4\u001b[0m\n",
      " \u001b[32m+\u001b[39m \u001b[1mpydantic-core\u001b[0m\u001b[2m==2.33.2\u001b[0m\n",
      " \u001b[32m+\u001b[39m \u001b[1mtyping-inspection\u001b[0m\u001b[2m==0.4.0\u001b[0m\n",
      "\u001b[2mUsing Python 3.11.12 environment at: /home/ryuichi/.venv\u001b[0m\n",
      "\u001b[2K\u001b[2mResolved \u001b[1m1 package\u001b[0m \u001b[2min 178ms\u001b[0m\u001b[0m                                          \u001b[0m\n",
      "\u001b[2K\u001b[2mPrepared \u001b[1m1 package\u001b[0m \u001b[2min 37ms\u001b[0m\u001b[0m                                               \n",
      "\u001b[2K\u001b[2mInstalled \u001b[1m1 package\u001b[0m \u001b[2min 2ms\u001b[0m\u001b[0m0                                 \u001b[0m\n",
      " \u001b[32m+\u001b[39m \u001b[1mpython-dotenv\u001b[0m\u001b[2m==1.1.0\u001b[0m\n"
     ]
    }
   ],
   "source": [
    "!uv pip install openai\n",
    "!uv pip install python-dotenv"
   ]
  },
  {
   "cell_type": "code",
   "execution_count": 2,
   "id": "9283b0c3-fabc-41dd-a6ac-2a994a6df07b",
   "metadata": {},
   "outputs": [],
   "source": [
    "import os\n",
    "from openai import AzureOpenAI\n",
    "from dotenv import load_dotenv\n",
    "\n",
    "# .envファイルをロードして環境変数を読み込む\n",
    "load_dotenv()\n",
    "\n",
    "# 環境変数から値を取得\n",
    "azure_endpoint = os.getenv(\"AZURE_OPENAI_ENDPOINT\")\n",
    "api_key = os.getenv(\"AZURE_OPENAI_API_KEY\")\n",
    "api_version = os.getenv(\"AZURE_OPENAI_API_VERSION\")\n",
    "\n",
    "# # 環境変数が取得できているか確認\n",
    "# print(f\"Azure Endpoint: {azure_endpoint}\")\n",
    "# print(f\"API Key: {api_key}\")\n",
    "# print(f\"API Version: {api_version}\")\n",
    "\n",
    "# 必須の環境変数が欠けている場合エラーをスロー\n",
    "if not azure_endpoint or not api_key or not api_version:\n",
    "    raise ValueError(\"必須の環境変数の値が取得できていません。環境変数を確認してください。\")\n",
    "\n",
    "# Azure OpenAI Clientの初期化\n",
    "client = AzureOpenAI(\n",
    "    azure_endpoint=azure_endpoint,\n",
    "    api_key=api_key,\n",
    "    api_version=api_version\n",
    ")"
   ]
  },
  {
   "cell_type": "code",
   "execution_count": 3,
   "id": "532ea460-c700-4a54-ab3c-57ebe72e1518",
   "metadata": {},
   "outputs": [
    {
     "name": "stdout",
     "output_type": "stream",
     "text": [
      "年代の古い順に並べると、正しい順序は以下の通りです：\n",
      "\n",
      "**イ → ウ → ア**\n",
      "\n",
      "### 順序の説明：\n",
      "1. **イ: 嵯峨天皇は、藤原冬嗣らを蔵人頭に任命しました。**\n",
      "   - 嵯峨天皇が藤原冬嗣を蔵人頭に任命したのは812年のことです。この任命により、藤原氏北家が政界での影響力を増し始めました。\n",
      "\n",
      "2. **ウ: 藤原良房は、承和の変後、藤原氏の中での北家の優位を確立しました。**\n",
      "   - 承和の変は842年に発生しました。この政変により、藤原良房が北家の立場を強化し、日本の政治における藤原氏の優位を確立しました。\n",
      "\n",
      "3. **ア: 藤原時平は、策謀を用いて菅原道真を政界から追放しました。**\n",
      "   - 藤原時平は、901年に菅原道真を太宰府に左遷する事件（いわゆる「昌泰の変」を引き起こしました）。これにより菅原道真が政界を去ることになりました。\n",
      "\n",
      "以上を踏まえると、年代の順序は「イ → ウ → ア」となります。\n"
     ]
    }
   ],
   "source": [
    "import os\n",
    "from openai import AzureOpenAI\n",
    "from dotenv import load_dotenv\n",
    "import textwrap\n",
    "\n",
    "def fetch_responses(payload, system_message=\"あなたは優秀な日本の歴史の専門家です。\"):\n",
    "    \"\"\"\n",
    "    Azure OpenAI APIにリクエストを送り、生成されたレスポンスを返却します。\n",
    "    \"\"\"\n",
    "    try:\n",
    "        # Temperatureのバリデーション\n",
    "        if not (0.0 <= payload[\"temperature\"] <= 1.0):\n",
    "            raise ValueError(\"temperatureの値は0.0から1.0の間で指定してください。\")\n",
    "\n",
    "        # API呼び出し: Chat Completions\n",
    "        response = client.chat.completions.create(\n",
    "            model=payload[\"model\"],\n",
    "            messages=[\n",
    "                {\"role\": \"system\", \"content\": system_message},\n",
    "                {\"role\": \"user\", \"content\": payload[\"prompt\"]}\n",
    "            ],\n",
    "            temperature=payload[\"temperature\"]\n",
    "        )\n",
    "        return response.choices[0].message.content.strip()\n",
    "    except Exception as e:\n",
    "        return f\"リクエストに失敗しました。エラーメッセージ: {str(e)}\"\n",
    "\n",
    "\n",
    "# ペイロード設定\n",
    "payload = {\n",
    "    \"model\": \"gpt-4o\",  # Azure OpenAIでデプロイしたモデルのデプロイメント名を指定\n",
    "    \"prompt\": textwrap.dedent(\"\"\"\n",
    "        9世紀に活躍した人物に関係するできごとについて述べた次のア～ウを年代の古い順に正しく並べよ。\n",
    "        ア: 藤原時平は、策謀を用いて菅原道真を政界から追放しました。\n",
    "        イ: 嵯峨天皇は、藤原冬嗣らを蔵人頭に任命しました。\n",
    "        ウ: 藤原良房は、承和の変後、藤原氏の中での北家の優位を確立しました。\n",
    "    \"\"\").strip(),\n",
    "    \"temperature\": 0.7\n",
    "}\n",
    "\n",
    "# レスポンス取得\n",
    "result = fetch_responses(payload)\n",
    "print(result)"
   ]
  },
  {
   "cell_type": "markdown",
   "id": "608f75ea-f00f-4365-b642-bf55fe98fa9c",
   "metadata": {
    "id": "608f75ea-f00f-4365-b642-bf55fe98fa9c"
   },
   "source": [
    "## 41. Few-Shot推論\n",
    "\n",
    "以下の問題と解答を与え、問題40で示した質問の解答をfew-shot推論（この場合は4-shot推論）で生成せよ。\n",
    "\n",
    "```\n",
    "日本の近代化に関連するできごとについて述べた次のア～ウを年代の古い順に正しく並べよ。\n",
    "\n",
    "ア　府知事・県令からなる地方官会議が設置された。\n",
    "イ　廃藩置県が実施され，中央から府知事・県令が派遣される体制になった。\n",
    "ウ　すべての藩主が，天皇に領地と領民を返還した。\n",
    "\n",
    "解答: ウ→イ→ア\n",
    "```\n",
    "\n",
    "出典: [令和5年度第1回高等学校卒業程度認定試験問題](https://www.mext.go.jp/a_menu/koutou/shiken/kakomon/1411255_00010.htm) [日本史AB 問題](https://www.mext.go.jp/content/20240523-mxt_syogai02-mext_000031286_03nihonshi.pdf) 日本史A 1 問8\n",
    "\n",
    "\n",
    "```\n",
    "江戸幕府の北方での対外的な緊張について述べた次の文ア～ウを年代の古い順に正しく並べよ。\n",
    "\n",
    "ア　レザノフが長崎に来航したが，幕府が冷淡な対応をしたため，ロシア船が樺太や択捉島を攻撃した。\n",
    "イ　ゴローウニンが国後島に上陸し，幕府の役人に捕らえられ抑留された。\n",
    "ウ　ラクスマンが根室に来航し，漂流民を届けるとともに通商を求めた。\n",
    "\n",
    "解答: ウ→ア→イ\n",
    "```\n",
    "\n",
    "出典: [令和5年度第1回高等学校卒業程度認定試験問題](https://www.mext.go.jp/a_menu/koutou/shiken/kakomon/1411255_00010.htm) [日本史AB 問題](https://www.mext.go.jp/content/20240523-mxt_syogai02-mext_000031286_03nihonshi.pdf) 日本史B 3 問3\n",
    "\n",
    "```\n",
    "中居屋重兵衛の生涯の期間におこったできごとについて述べた次のア～ウを，年代の古い順に正しく並べよ。\n",
    "\n",
    "ア　アヘン戦争がおこり，清がイギリスに敗北した。\n",
    "イ　異国船打払令が出され，外国船を撃退することが命じられた。\n",
    "ウ　桜田門外の変がおこり，大老の井伊直弼が暗殺された。\n",
    "\n",
    "解答: イ→ア→ウ\n",
    "```\n",
    "\n",
    "出典: [令和4年度第1回高等学校卒業程度認定試験問題](https://www.mext.go.jp/a_menu/koutou/shiken/kakomon/1411255_00007.htm) [日本史 問題](https://www.mext.go.jp/content/20240513-mxt_syogai02-mext_00002452_03nihonshi.pdf) 日本史A 1 問1\n",
    "\n",
    "\n",
    "```\n",
    "加藤高明が外務大臣として提言を行ってから、内閣総理大臣となり演説を行うまでの時期のできごとについて述べた次のア～ウを，年代の古い順に正しく並べよ。\n",
    "\n",
    "ア　朝鮮半島において，独立を求める大衆運動である三・一独立運動が展開された。\n",
    "イ　関東大震災後の混乱のなかで，朝鮮人や中国人に対する殺傷事件がおきた。\n",
    "ウ　日本政府が，袁世凱政府に対して二十一カ条の要求を突き付けた。\n",
    "\n",
    "解答: ウ→ア→イ\n",
    "```\n",
    "\n",
    "出典: [令和4年度第1回高等学校卒業程度認定試験問題](https://www.mext.go.jp/a_menu/koutou/shiken/kakomon/1411255_00007.htm) [日本史 問題](https://www.mext.go.jp/content/20240513-mxt_syogai02-mext_00002452_03nihonshi.pdf) 日本史A 2 問4\n"
   ]
  },
  {
   "cell_type": "code",
   "execution_count": null,
   "id": "86c23fff-e08a-4653-b188-3dac8781e502",
   "metadata": {},
   "outputs": [],
   "source": []
  },
  {
   "cell_type": "markdown",
   "id": "ba5b3390-fe20-460a-b6ba-fee5d64def0d",
   "metadata": {
    "id": "ba5b3390-fe20-460a-b6ba-fee5d64def0d"
   },
   "source": [
    "## 42. 多肢選択問題の正解率\n",
    "\n",
    "[JMMLU](https://github.com/nlp-waseda/JMMLU) のいずれかの科目を大規模言語モデルに解答させ、その正解率を求めよ。"
   ]
  },
  {
   "cell_type": "markdown",
   "id": "e12fc22a-24a5-4bd0-881f-27ea99120cce",
   "metadata": {
    "id": "e12fc22a-24a5-4bd0-881f-27ea99120cce"
   },
   "source": [
    "## 43. 応答のバイアス\n",
    "\n",
    "問題42において、実験設定を変化させると正解率が変化するかどうかを調べよ。実験設定の例としては、大規模言語モデルの温度パラメータ、プロンプト、多肢選択肢の順番、多肢選択肢の記号などが考えられる。"
   ]
  },
  {
   "cell_type": "markdown",
   "id": "rwHMH3_y6vGI",
   "metadata": {
    "id": "rwHMH3_y6vGI"
   },
   "source": [
    "正解の選択肢を全てDに入れ替えて解答させる例。"
   ]
  },
  {
   "cell_type": "markdown",
   "id": "68b9f58d-d6bf-41cb-9601-1dc50799f21a",
   "metadata": {
    "id": "68b9f58d-d6bf-41cb-9601-1dc50799f21a"
   },
   "source": [
    "## 44. 対話\n",
    "\n",
    "以下の問いかけに対する応答を生成せよ。\n",
    "\n",
    "> つばめちゃんは渋谷駅から東急東横線に乗り、自由が丘駅で乗り換えました。東急大井町線の大井町方面の電車に乗り換えたとき、各駅停車に乗車すべきところ、間違えて急行に乗車してしまったことに気付きました。自由が丘の次の急行停車駅で降車し、反対方向の電車で一駅戻った駅がつばめちゃんの目的地でした。目的地の駅の名前を答えてください。\n",
    "\n",
    "参考: [東急線・みなとみらい線路線案内](https://www.tokyu.co.jp/railway/station/map.html)"
   ]
  },
  {
   "cell_type": "markdown",
   "id": "90e21f41-e016-40f5-94e7-da332111226c",
   "metadata": {
    "id": "90e21f41-e016-40f5-94e7-da332111226c"
   },
   "source": [
    "## 45. マルチターン対話"
   ]
  },
  {
   "cell_type": "markdown",
   "id": "3a9bdee2-8bac-43a9-98a0-e8af0c600c2a",
   "metadata": {
    "id": "3a9bdee2-8bac-43a9-98a0-e8af0c600c2a"
   },
   "source": [
    "先ほどの応答に続けて、以下の追加の問いかけに対する応答を生成せよ。\n",
    "\n",
    "> さらに、つばめちゃんが自由が丘駅で乗り換えたとき、先ほどとは反対方向の急行電車に間違って乗車してしまった場合を考えます。目的地の駅に向かうため、自由が丘の次の急行停車駅で降車した後、反対方向の各駅停車に乗車した場合、何駅先の駅で降りれば良いでしょうか？"
   ]
  },
  {
   "cell_type": "markdown",
   "id": "lJXGYVdnKQOu",
   "metadata": {
    "id": "lJXGYVdnKQOu"
   },
   "source": [
    "## 46. 川柳の生成\n",
    "\n",
    "適当なお題を設定し、川柳の案を10個作成せよ。"
   ]
  },
  {
   "cell_type": "markdown",
   "id": "6a8207e1-4084-47eb-8533-c5371f795b16",
   "metadata": {
    "id": "6a8207e1-4084-47eb-8533-c5371f795b16"
   },
   "source": [
    "## 47. LLMによる評価\n",
    "\n",
    "大規模言語モデルを評価者（ジャッジ）として、問題46の川柳の面白さを10段階で評価せよ。"
   ]
  },
  {
   "cell_type": "markdown",
   "id": "9e33b5a2-d9e0-43c7-9cc6-b8b642458be2",
   "metadata": {
    "id": "9e33b5a2-d9e0-43c7-9cc6-b8b642458be2"
   },
   "source": [
    "## 48. LLMによる評価の頑健性\n",
    "\n",
    "問題47で行ったLLMによるテキストの評価に関して、その頑健さ（脆弱さ）を調査せよ。最も単純な方法は、同じ評価を何回か繰り返した時のスコアの分散を調べることであろう。また、川柳の末尾に特定のメッセージを追加することで、評価スコアを恣意的に操作することも可能であろう。"
   ]
  },
  {
   "cell_type": "markdown",
   "id": "fbb81de5-8434-4738-89d8-a79f46663857",
   "metadata": {
    "id": "fbb81de5-8434-4738-89d8-a79f46663857"
   },
   "source": [
    "## 49. トークン化\n",
    "\n",
    "以下の文章（夏目漱石の『吾輩は猫である』の冒頭部分）のトークン数を計測せよ。\n",
    "\n",
    ">　吾輩は猫である。名前はまだ無い。\n",
    ">\n",
    ">　どこで生れたかとんと見当がつかぬ。何でも薄暗いじめじめした所でニャーニャー泣いていた事だけは記憶している。吾輩はここで始めて人間というものを見た。しかもあとで聞くとそれは書生という人間中で一番獰悪な種族であったそうだ。この書生というのは時々我々を捕えて煮て食うという話である。しかしその当時は何という考もなかったから別段恐しいとも思わなかった。ただ彼の掌に載せられてスーと持ち上げられた時何だかフワフワした感じがあったばかりである。掌の上で少し落ちついて書生の顔を見たのがいわゆる人間というものの見始であろう。この時妙なものだと思った感じが今でも残っている。第一毛をもって装飾されべきはずの顔がつるつるしてまるで薬缶だ。その後猫にもだいぶ逢ったがこんな片輪には一度も出会わした事がない。のみならず顔の真中があまりに突起している。そうしてその穴の中から時々ぷうぷうと煙を吹く。どうも咽せぽくて実に弱った。これが人間の飲む煙草というものである事はようやくこの頃知った。\n"
   ]
  }
 ],
 "metadata": {
  "colab": {
   "provenance": []
  },
  "kernelspec": {
   "display_name": "Python 3 (ipykernel)",
   "language": "python",
   "name": "python3"
  },
  "language_info": {
   "codemirror_mode": {
    "name": "ipython",
    "version": 3
   },
   "file_extension": ".py",
   "mimetype": "text/x-python",
   "name": "python",
   "nbconvert_exporter": "python",
   "pygments_lexer": "ipython3",
   "version": "3.11.12"
  }
 },
 "nbformat": 4,
 "nbformat_minor": 5
}
