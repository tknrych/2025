{
 "cells": [
  {
   "cell_type": "markdown",
   "id": "5d2e8296-0efe-488a-9303-c53e0aac5573",
   "metadata": {
    "editable": true,
    "id": "5d2e8296-0efe-488a-9303-c53e0aac5573",
    "tags": []
   },
   "source": [
    "# 第1章: 準備運動"
   ]
  },
  {
   "cell_type": "markdown",
   "id": "b25a842d-828c-4fcd-b23e-62fcdbabc4dd",
   "metadata": {
    "editable": true,
    "id": "b25a842d-828c-4fcd-b23e-62fcdbabc4dd",
    "tags": []
   },
   "source": [
    "## 00. パタトクカシーー\n",
    "2つの文字列「パトカー」と「タクシー」の文字を先頭から交互に連結し、文字列「パタトクカシーー」を得よ。"
   ]
  },
  {
   "cell_type": "code",
   "execution_count": 50,
   "id": "3acba8e9-7c47-43fc-b11f-ec6918b126d3",
   "metadata": {},
   "outputs": [
    {
     "name": "stdout",
     "output_type": "stream",
     "text": [
      "パタ\n",
      "トク\n",
      "カシ\n",
      "ーー\n"
     ]
    }
   ],
   "source": [
    "target_string1 = 'パトカー'\n",
    "target_string2 = 'タクシー'\n",
    "output_string = []\n",
    "for i, j in zip(target_string1, target_string2):\n",
    "    print(i+j)\n",
    "    output_string.append(i+j)"
   ]
  },
  {
   "cell_type": "code",
   "execution_count": 51,
   "id": "66e35b09-788a-4153-9ec7-41a228dcc2dc",
   "metadata": {},
   "outputs": [
    {
     "data": {
      "text/plain": [
       "'パタトクカシーー'"
      ]
     },
     "execution_count": 51,
     "metadata": {},
     "output_type": "execute_result"
    }
   ],
   "source": [
    "''.join(output_string)"
   ]
  },
  {
   "cell_type": "markdown",
   "id": "552596a9-f286-49b1-8443-ceb3454889e0",
   "metadata": {
    "editable": true,
    "id": "552596a9-f286-49b1-8443-ceb3454889e0",
    "tags": []
   },
   "source": [
    "## 01. タクシー\n",
    "文字列「パタトクカシーー」の2, 4, 6, 8文字目を取り出し、それらを連結した文字列を得よ。"
   ]
  },
  {
   "cell_type": "code",
   "execution_count": 52,
   "id": "d87b5032-d1b7-4436-aff1-bc4e33ce5301",
   "metadata": {},
   "outputs": [
    {
     "data": {
      "text/plain": [
       "'パタトクカシーー'"
      ]
     },
     "execution_count": 52,
     "metadata": {},
     "output_type": "execute_result"
    }
   ],
   "source": [
    "target_string = ''.join(output_string)\n",
    "target_string"
   ]
  },
  {
   "cell_type": "code",
   "execution_count": 53,
   "id": "df4ff8e2-4a2c-4560-b7c9-d90c3c57ba06",
   "metadata": {},
   "outputs": [
    {
     "name": "stdout",
     "output_type": "stream",
     "text": [
      "タ\n",
      "ク\n",
      "シ\n",
      "ー\n"
     ]
    },
    {
     "data": {
      "text/plain": [
       "'タクシー'"
      ]
     },
     "execution_count": 53,
     "metadata": {},
     "output_type": "execute_result"
    }
   ],
   "source": [
    "extract_list = [2, 4, 6, 8]\n",
    "output_string = []\n",
    "for i in extract_list:\n",
    "    print(target_string[i-1])\n",
    "    output_string.append(target_string[i-1])\n",
    "''.join(output_string)"
   ]
  },
  {
   "cell_type": "markdown",
   "id": "1c0a9a7c-4ade-4023-9f44-fc9cf394978b",
   "metadata": {
    "editable": true,
    "id": "1c0a9a7c-4ade-4023-9f44-fc9cf394978b",
    "tags": []
   },
   "source": [
    "## 02. 文字列の逆順\n",
    "文字列\"stressed\"の文字を逆に（末尾から先頭に向かって）並べた文字列を得よ。"
   ]
  },
  {
   "cell_type": "code",
   "execution_count": 54,
   "id": "1f445df3-b088-4f31-93b6-06a4c409d3fc",
   "metadata": {},
   "outputs": [
    {
     "name": "stdout",
     "output_type": "stream",
     "text": [
      "d\n",
      "e\n",
      "s\n",
      "s\n",
      "e\n",
      "r\n",
      "t\n",
      "s\n",
      "stressedを逆順にしたものは -> desserts\n"
     ]
    }
   ],
   "source": [
    "target_string = 'stressed'\n",
    "reversed_string = []\n",
    "for i in range(len('stressed'), 0, -1):\n",
    "    print(target_string[i-1])\n",
    "    reversed_string.append(target_string[i-1])\n",
    "print('stressedを逆順にしたものは -> {}'.format(''.join(reversed_string)))"
   ]
  },
  {
   "cell_type": "markdown",
   "id": "4161bcb5-5baf-4172-b2a6-7c14f1907d54",
   "metadata": {
    "id": "4161bcb5-5baf-4172-b2a6-7c14f1907d54"
   },
   "source": [
    "## 03. 円周率\n",
    "\"Now I need a drink, alcoholic of course, after the heavy lectures involving quantum mechanics.\"という文を単語に分解し、各単語の（アルファベットの）文字数を先頭から出現順に並べたリストを作成せよ。"
   ]
  },
  {
   "cell_type": "code",
   "execution_count": 58,
   "id": "bf76e2de-f006-4ecb-9411-8a501734e0ff",
   "metadata": {},
   "outputs": [
    {
     "name": "stdout",
     "output_type": "stream",
     "text": [
      "Nowの文字数は:3\n",
      "Iの文字数は:1\n",
      "needの文字数は:4\n",
      "aの文字数は:1\n",
      "drink,の文字数は:6\n",
      "alcoholicの文字数は:9\n",
      "ofの文字数は:2\n",
      "course,の文字数は:7\n",
      "afterの文字数は:5\n",
      "theの文字数は:3\n",
      "heavyの文字数は:5\n",
      "lecturesの文字数は:8\n",
      "involvingの文字数は:9\n",
      "quantumの文字数は:7\n",
      "mechanics.の文字数は:10\n"
     ]
    },
    {
     "data": {
      "text/plain": [
       "[3, 1, 4, 1, 6, 9, 2, 7, 5, 3, 5, 8, 9, 7, 10]"
      ]
     },
     "execution_count": 58,
     "metadata": {},
     "output_type": "execute_result"
    }
   ],
   "source": [
    "target_string = 'Now I need a drink, alcoholic of course, after the heavy lectures involving quantum mechanics.'\n",
    "words_list = []\n",
    "for split_str in target_string.split(' '):\n",
    "    print(split_str + 'の文字数は:{}'.format(len(split_str)))\n",
    "    words_list.append(len(split_str))\n",
    "words_list"
   ]
  },
  {
   "cell_type": "markdown",
   "id": "8e56c958-d6fb-411c-9dc6-77992c515637",
   "metadata": {
    "id": "8e56c958-d6fb-411c-9dc6-77992c515637"
   },
   "source": [
    "## 04. 元素記号\n",
    "\"Hi He Lied Because Boron Could Not Oxidize Fluorine. New Nations Might Also Sign Peace Security Clause. Arthur King Can.\"という文を単語に分解し、1, 5, 6, 7, 8, 9, 15, 16, 19番目の単語は先頭の1文字、それ以外の単語は先頭の2文字を取り出し、取り出した文字列から単語の位置（先頭から何番目の単語か）への連想配列（辞書型もしくはマップ型）を作成せよ。"
   ]
  },
  {
   "cell_type": "code",
   "execution_count": 59,
   "id": "905ddfdb-e661-46b5-9b50-aa3c3659cffb",
   "metadata": {},
   "outputs": [],
   "source": [
    "target_string = 'Hi He Lied Because Boron Could Not Oxidize Fluorine. New Nations Might Also Sign Peace Security Clause. Arthur King Can.'\n",
    "target_string_list = target_string.split(' ')"
   ]
  },
  {
   "cell_type": "code",
   "execution_count": 60,
   "id": "b0b0a97f-4f2c-4d26-a36e-a1bdeb2682c8",
   "metadata": {},
   "outputs": [],
   "source": [
    "pickup_index_list = [1, 5, 6, 7, 8, 9, 15, 16, 19]"
   ]
  },
  {
   "cell_type": "code",
   "execution_count": 61,
   "id": "16bfaed3-cbcf-46a3-bb14-ecdb91b9af7a",
   "metadata": {},
   "outputs": [],
   "source": [
    "associative_array = {}\n",
    "for i, j in enumerate(target_string_list):\n",
    "    target_word = j.strip('.')\n",
    "    if i+1 in pickup_index_list:\n",
    "        target_word_index = target_word[0]\n",
    "    else:\n",
    "        target_word_index = target_word[0:2]\n",
    "    associative_array[target_word_index] = target_word"
   ]
  },
  {
   "cell_type": "code",
   "execution_count": 62,
   "id": "5b73bcae-61ed-4daf-a4b7-dca4521d9138",
   "metadata": {},
   "outputs": [
    {
     "data": {
      "text/plain": [
       "{'H': 'Hi',\n",
       " 'He': 'He',\n",
       " 'Li': 'Lied',\n",
       " 'Be': 'Because',\n",
       " 'B': 'Boron',\n",
       " 'C': 'Could',\n",
       " 'N': 'Not',\n",
       " 'O': 'Oxidize',\n",
       " 'F': 'Fluorine',\n",
       " 'Ne': 'New',\n",
       " 'Na': 'Nations',\n",
       " 'Mi': 'Might',\n",
       " 'Al': 'Also',\n",
       " 'Si': 'Sign',\n",
       " 'P': 'Peace',\n",
       " 'S': 'Security',\n",
       " 'Cl': 'Clause',\n",
       " 'Ar': 'Arthur',\n",
       " 'K': 'King',\n",
       " 'Ca': 'Can'}"
      ]
     },
     "execution_count": 62,
     "metadata": {},
     "output_type": "execute_result"
    }
   ],
   "source": [
    "associative_array"
   ]
  },
  {
   "cell_type": "markdown",
   "id": "5269dd34-1b19-4a99-9e3d-593e978f3361",
   "metadata": {
    "id": "5269dd34-1b19-4a99-9e3d-593e978f3361"
   },
   "source": [
    "## 05. n-gram\n",
    "与えられたシーケンス（文字列やリストなど）からn-gramを作る関数を作成せよ。この関数を用い、\"I am an NLPer\"という文から文字tri-gram、単語bi-gramを得よ。"
   ]
  },
  {
   "cell_type": "code",
   "execution_count": 65,
   "id": "5a47c403-6340-482d-9c72-9a26f768f444",
   "metadata": {},
   "outputs": [
    {
     "name": "stdout",
     "output_type": "stream",
     "text": [
      "['I a', ' am', 'am ', 'm a', ' an', 'an ', 'n N', ' NL', 'NLP', 'LPe', 'Per']\n",
      "[['I', 'am'], ['am', 'an'], ['an', 'NLPer']]\n"
     ]
    }
   ],
   "source": [
    "def char_tri_gram(input_string: str) -> list:\n",
    "    output_char_list = []\n",
    "    for i in range(0, len(input_string) - 2):\n",
    "        output_char_list.append(input_string[i:i+3])\n",
    "    return output_char_list\n",
    "\n",
    "    \n",
    "def word_bi_gram(input_string: str) -> list:\n",
    "    output_word_list = []\n",
    "    input_word_list = input_string.split(' ')\n",
    "    for i in range(0, len(input_word_list)-1):\n",
    "        # print(input_word_list[i:i+2])\n",
    "        output_word_list.append(input_word_list[i:i+2])\n",
    "    return output_word_list\n",
    "\n",
    "\n",
    "target_string = 'I am an NLPer'\n",
    "print(char_tri_gram(target_string))\n",
    "print(word_bi_gram(target_string))"
   ]
  },
  {
   "cell_type": "markdown",
   "id": "15df1a31-7906-4562-b5c5-b52194487ea9",
   "metadata": {
    "id": "15df1a31-7906-4562-b5c5-b52194487ea9"
   },
   "source": [
    "## 06. 集合\n",
    "\"paraparaparadise\"と\"paragraph\"に含まれる文字bi-gramの集合を、それぞれ, $X$ と $Y$ として求め、$X$ と $Y$ の和集合（$X \\cup Y$）、積集合（$X \\cap Y$）、差集合（$X \\setminus Y$）を求めよ。さらに、'se'というbi-gramがXおよびYに含まれるかどうかを調べよ。"
   ]
  },
  {
   "cell_type": "code",
   "execution_count": 68,
   "id": "4c606c75-8a92-4112-8986-a7c75b782e9a",
   "metadata": {},
   "outputs": [],
   "source": [
    "def char_bi_gram(input_string: str) -> list:\n",
    "    output_char_list = []\n",
    "    for i in range(0, len(input_string)-1):\n",
    "        output_char_list.append(input_string[i:i+2])\n",
    "    return output_char_list\n",
    "    \n",
    "\n",
    "X = char_bi_gram('paraparaparadise')\n",
    "Y = char_bi_gram('paragraph')"
   ]
  },
  {
   "cell_type": "code",
   "execution_count": 69,
   "id": "b9a33bf3-56f0-4e32-97e2-be825c3a7268",
   "metadata": {},
   "outputs": [
    {
     "data": {
      "text/plain": [
       "['pa',\n",
       " 'ar',\n",
       " 'ra',\n",
       " 'ap',\n",
       " 'pa',\n",
       " 'ar',\n",
       " 'ra',\n",
       " 'ap',\n",
       " 'pa',\n",
       " 'ar',\n",
       " 'ra',\n",
       " 'ad',\n",
       " 'di',\n",
       " 'is',\n",
       " 'se']"
      ]
     },
     "execution_count": 69,
     "metadata": {},
     "output_type": "execute_result"
    }
   ],
   "source": [
    "X"
   ]
  },
  {
   "cell_type": "code",
   "execution_count": 71,
   "id": "764916af-c7b9-4bc2-ab6e-1751add82065",
   "metadata": {},
   "outputs": [
    {
     "data": {
      "text/plain": [
       "['pa', 'ar', 'ra', 'ag', 'gr', 'ra', 'ap', 'ph']"
      ]
     },
     "execution_count": 71,
     "metadata": {},
     "output_type": "execute_result"
    }
   ],
   "source": [
    "Y"
   ]
  },
  {
   "cell_type": "markdown",
   "id": "fc5165c3-6962-4b3e-a686-f367beea89ed",
   "metadata": {},
   "source": [
    "$X$ と $Y$ の和集合（$X \\cup Y$）"
   ]
  },
  {
   "cell_type": "code",
   "execution_count": 79,
   "id": "5428e92a-0cba-4f71-9a4c-7883408742b8",
   "metadata": {},
   "outputs": [
    {
     "data": {
      "text/plain": [
       "{'ad', 'ag', 'ap', 'ar', 'di', 'gr', 'is', 'pa', 'ph', 'ra', 'se'}"
      ]
     },
     "execution_count": 79,
     "metadata": {},
     "output_type": "execute_result"
    }
   ],
   "source": [
    "# union\n",
    "set(X) | set(Y)"
   ]
  },
  {
   "cell_type": "markdown",
   "id": "4560e642-bee7-48a7-bdcb-c8aed55bdf40",
   "metadata": {},
   "source": [
    "$X$ と $Y$ の積集合（$X \\cap Y$）"
   ]
  },
  {
   "cell_type": "code",
   "execution_count": 83,
   "id": "3d8741fb-ddb1-47b2-9baf-4b8f2e806b08",
   "metadata": {},
   "outputs": [
    {
     "data": {
      "text/plain": [
       "{'ap', 'ar', 'pa', 'ra'}"
      ]
     },
     "execution_count": 83,
     "metadata": {},
     "output_type": "execute_result"
    }
   ],
   "source": [
    "# intersection\n",
    "set(X) & set(Y)"
   ]
  },
  {
   "cell_type": "markdown",
   "id": "b3892c37-df17-496d-838a-c0d7624021cd",
   "metadata": {},
   "source": [
    "$X$ と $Y$ の差集合（$X \\setminus Y$）"
   ]
  },
  {
   "cell_type": "code",
   "execution_count": 82,
   "id": "21b091ad-d046-41d4-a839-ee76cf11221d",
   "metadata": {},
   "outputs": [
    {
     "data": {
      "text/plain": [
       "{'ad', 'di', 'is', 'se'}"
      ]
     },
     "execution_count": 82,
     "metadata": {},
     "output_type": "execute_result"
    }
   ],
   "source": [
    "set(X) - set(Y)"
   ]
  },
  {
   "cell_type": "markdown",
   "id": "02918fd1-35b3-42c6-8bda-1b213b719b1f",
   "metadata": {},
   "source": [
    "'se'というbi-gramがXおよびYに含まれるかどうか"
   ]
  },
  {
   "cell_type": "code",
   "execution_count": 73,
   "id": "847ea5b4-71da-4009-9d0d-4ef7dbe9e2cf",
   "metadata": {},
   "outputs": [
    {
     "data": {
      "text/plain": [
       "True"
      ]
     },
     "execution_count": 73,
     "metadata": {},
     "output_type": "execute_result"
    }
   ],
   "source": [
    "'se' in X"
   ]
  },
  {
   "cell_type": "code",
   "execution_count": 74,
   "id": "2b88ad2f-e51f-4892-b62c-c2d523fcc637",
   "metadata": {},
   "outputs": [
    {
     "data": {
      "text/plain": [
       "False"
      ]
     },
     "execution_count": 74,
     "metadata": {},
     "output_type": "execute_result"
    }
   ],
   "source": [
    "'se' in Y"
   ]
  },
  {
   "cell_type": "markdown",
   "id": "90b9bdde-e35c-4dc5-a46d-f7a8dd6d6513",
   "metadata": {
    "id": "90b9bdde-e35c-4dc5-a46d-f7a8dd6d6513"
   },
   "source": [
    "## 07. テンプレートによる文生成\n",
    "引数x, y, zを受け取り「x時のyはz」という文字列を返す関数を実装せよ。さらに、x=12, y=\"気温\", z=22.4として、実行結果を確認せよ。"
   ]
  },
  {
   "cell_type": "code",
   "execution_count": 84,
   "id": "837d39b6-48cc-4ee4-b8c6-88dc5a48bdd7",
   "metadata": {},
   "outputs": [],
   "source": [
    "def template_print(x: str, y: str, z:str) -> str:\n",
    "    return '{0}時の{1}は{2}'.format(x, y, z)"
   ]
  },
  {
   "cell_type": "code",
   "execution_count": 85,
   "id": "7cd45510-98cb-4046-b655-d65f2b2b4385",
   "metadata": {},
   "outputs": [
    {
     "data": {
      "text/plain": [
       "'12時の気温は22.4'"
      ]
     },
     "execution_count": 85,
     "metadata": {},
     "output_type": "execute_result"
    }
   ],
   "source": [
    "template_print(12, '気温', 22.4)"
   ]
  },
  {
   "cell_type": "markdown",
   "id": "215bd86b-1b3c-4446-98ae-af5d671fba12",
   "metadata": {
    "id": "215bd86b-1b3c-4446-98ae-af5d671fba12"
   },
   "source": [
    "## 08. 暗号文\n",
    "与えられた文字列の各文字を、以下の仕様で変換する関数cipherを実装せよ。\n",
    "\n",
    "* 英小文字ならば (219 - 文字コード) のASCIIコードに対応する文字に置換\n",
    "* その他の文字はそのまま出力\n",
    "\n",
    "この関数を用い、英語のメッセージを暗号化・復号化せよ。"
   ]
  },
  {
   "cell_type": "code",
   "execution_count": 86,
   "id": "414169f1-2197-45eb-9913-719374179440",
   "metadata": {},
   "outputs": [
    {
     "data": {
      "text/plain": [
       "97"
      ]
     },
     "execution_count": 86,
     "metadata": {},
     "output_type": "execute_result"
    }
   ],
   "source": [
    "# テスト\n",
    "ord('a')"
   ]
  },
  {
   "cell_type": "code",
   "execution_count": 87,
   "id": "f2eeabdf-c2aa-434f-86e0-15dced7664f2",
   "metadata": {},
   "outputs": [],
   "source": [
    "import re\n",
    "pattern = re.compile('[a-z]')"
   ]
  },
  {
   "cell_type": "code",
   "execution_count": 88,
   "id": "89de2bf7-414a-40de-b033-f94f81af3bec",
   "metadata": {},
   "outputs": [],
   "source": [
    "def cipher_encrypt(target_string: str) -> str:\n",
    "    for i in target_string:\n",
    "        if len(pattern.findall(i)) != 0:\n",
    "            print(chr(219-ord(i)))\n",
    "        else:\n",
    "            print(i)"
   ]
  },
  {
   "cell_type": "code",
   "execution_count": 89,
   "id": "4d9ac8e2-2a7f-43af-a465-1ea332d6381a",
   "metadata": {},
   "outputs": [],
   "source": [
    "def cipher_decrypt(target_string: str) -> str:\n",
    "    for i in target_string:\n",
    "        if len(pattern.findall(i)) != 0:\n",
    "            print(chr(219 - ord(i)))\n",
    "        else:\n",
    "            print(i)"
   ]
  },
  {
   "cell_type": "code",
   "execution_count": 90,
   "id": "ad318ec4-84bb-4ba8-8d81-2241c85dc17f",
   "metadata": {},
   "outputs": [
    {
     "name": "stdout",
     "output_type": "stream",
     "text": [
      "Z\n",
      "W\n",
      "W\n",
      "?\n",
      "?\n",
      "z\n",
      "y\n",
      "x\n"
     ]
    }
   ],
   "source": [
    "cipher_encrypt('ZWW??abc')"
   ]
  },
  {
   "cell_type": "code",
   "execution_count": 91,
   "id": "161cde71-f014-4c66-9a5a-74b255fce97d",
   "metadata": {},
   "outputs": [
    {
     "name": "stdout",
     "output_type": "stream",
     "text": [
      "Z\n",
      "W\n",
      "W\n",
      "?\n",
      "?\n",
      "a\n",
      "b\n",
      "c\n"
     ]
    }
   ],
   "source": [
    "cipher_decrypt('ZWW??zyx')"
   ]
  },
  {
   "cell_type": "markdown",
   "id": "64c1bdae-5ce3-4128-86be-23ce079a2d98",
   "metadata": {
    "id": "64c1bdae-5ce3-4128-86be-23ce079a2d98"
   },
   "source": [
    "## 09. Typoglycemia\n",
    "スペースで区切られた単語列に対して、各単語の先頭と末尾の文字は残し、それ以外の文字の順序をランダムに並び替えるプログラムを作成せよ。ただし、長さが４以下の単語は並び替えないこととする。適当な英語の文（例えば\"I couldn't believe that I could actually understand what I was reading : the phenomenal power of the human mind .\"）を与え、その実行結果を確認せよ。"
   ]
  },
  {
   "cell_type": "code",
   "execution_count": 92,
   "id": "d64cc892-ac8f-4a25-b4a2-3125de9ed11a",
   "metadata": {},
   "outputs": [],
   "source": [
    "target_string = \"I couldn’t believe that I could actually understand what I was reading : the phenomenal power of the human mind .\""
   ]
  },
  {
   "cell_type": "code",
   "execution_count": 93,
   "id": "78a18e86-6b99-4885-a72e-f605eadc4eed",
   "metadata": {},
   "outputs": [],
   "source": [
    "target_string_list = target_string.strip('.;').split(' ')"
   ]
  },
  {
   "cell_type": "code",
   "execution_count": 94,
   "id": "30bd609f-9456-4bfb-9fac-6e2671304f8a",
   "metadata": {},
   "outputs": [
    {
     "data": {
      "text/plain": [
       "['I',\n",
       " 'couldn’t',\n",
       " 'believe',\n",
       " 'that',\n",
       " 'I',\n",
       " 'could',\n",
       " 'actually',\n",
       " 'understand',\n",
       " 'what',\n",
       " 'I',\n",
       " 'was',\n",
       " 'reading',\n",
       " ':',\n",
       " 'the',\n",
       " 'phenomenal',\n",
       " 'power',\n",
       " 'of',\n",
       " 'the',\n",
       " 'human',\n",
       " 'mind',\n",
       " '']"
      ]
     },
     "execution_count": 94,
     "metadata": {},
     "output_type": "execute_result"
    }
   ],
   "source": [
    "target_string_list"
   ]
  },
  {
   "cell_type": "code",
   "execution_count": 96,
   "id": "96e214b1-f372-41b2-96a6-05a7d5b16968",
   "metadata": {},
   "outputs": [
    {
     "name": "stdout",
     "output_type": "stream",
     "text": [
      "並び替えた文字列: cduonl’t\n",
      "並び替えた文字列: blievee\n",
      "並び替えた文字列: colud\n",
      "並び替えた文字列: alltcauy\n",
      "並び替えた文字列: utsdnnerad\n",
      "並び替えた文字列: rdnaeig\n",
      "並び替えた文字列: ponmeahnel\n",
      "並び替えた文字列: poewr\n",
      "並び替えた文字列: hamun\n"
     ]
    }
   ],
   "source": [
    "import random\n",
    "for i in target_string_list:\n",
    "    if len(i) > 4:\n",
    "        print('並び替えた文字列: {}{}{}'.format(i[0], ''.join(random.sample(i[1:-1], len(i[1:-1]))), i[-1]))"
   ]
  },
  {
   "cell_type": "code",
   "execution_count": null,
   "id": "2b0e6fa1-8e41-491c-ab82-7b3d9ba44bb5",
   "metadata": {},
   "outputs": [],
   "source": []
  }
 ],
 "metadata": {
  "colab": {
   "provenance": []
  },
  "kernelspec": {
   "display_name": "Python 3 (ipykernel)",
   "language": "python",
   "name": "python3"
  },
  "language_info": {
   "codemirror_mode": {
    "name": "ipython",
    "version": 3
   },
   "file_extension": ".py",
   "mimetype": "text/x-python",
   "name": "python",
   "nbconvert_exporter": "python",
   "pygments_lexer": "ipython3",
   "version": "3.11.12"
  }
 },
 "nbformat": 4,
 "nbformat_minor": 5
}
